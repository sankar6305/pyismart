{
  "nbformat": 4,
  "nbformat_minor": 0,
  "metadata": {
    "kernelspec": {
      "display_name": "Python 3",
      "language": "python",
      "name": "python3"
    },
    "language_info": {
      "codemirror_mode": {
        "name": "ipython",
        "version": 3
      },
      "file_extension": ".py",
      "mimetype": "text/x-python",
      "name": "python",
      "nbconvert_exporter": "python",
      "pygments_lexer": "ipython3",
      "version": "3.6.1"
    },
    "colab": {
      "name": "2.4.ipynb",
      "provenance": [],
      "include_colab_link": true
    }
  },
  "cells": [
    {
      "cell_type": "markdown",
      "metadata": {
        "id": "view-in-github",
        "colab_type": "text"
      },
      "source": [
        "<a href=\"https://colab.research.google.com/github/sankar6305/pyismart/blob/main/modele1/2_4(sets).ipynb\" target=\"_parent\"><img src=\"https://colab.research.google.com/assets/colab-badge.svg\" alt=\"Open In Colab\"/></a>"
      ]
    },
    {
      "cell_type": "markdown",
      "metadata": {
        "id": "fGPz7l_wf7fU"
      },
      "source": [
        "# Sets"
      ]
    },
    {
      "cell_type": "markdown",
      "metadata": {
        "id": "NHDfqDBBf7fY"
      },
      "source": [
        "-> A set is an unordered collection of items. Every element is unique (no duplicates).\n",
        "\n",
        "-> The set itself is mutable. We can add or remove items from it.\n",
        "\n",
        "-> Sets can be used to perform mathematical set operations like union, intersection, symmetric difference etc."
      ]
    },
    {
      "cell_type": "markdown",
      "metadata": {
        "id": "Ar4CXHiBf7fY"
      },
      "source": [
        "# Set Creation"
      ]
    },
    {
      "cell_type": "code",
      "metadata": {
        "id": "4s6kMwDaf7fZ",
        "outputId": "5a022397-9d6b-4336-8558-ba0a45e76aa6"
      },
      "source": [
        "#set of integers\n",
        "s = {1, 2, 3}\n",
        "print(s)\n",
        "\n",
        "#print type of s \n",
        "print(type(s))"
      ],
      "execution_count": null,
      "outputs": [
        {
          "output_type": "stream",
          "text": [
            "set([1, 2, 3])\n",
            "<type 'set'>\n"
          ],
          "name": "stdout"
        }
      ]
    },
    {
      "cell_type": "code",
      "metadata": {
        "id": "c8zlI0m8f7fb",
        "outputId": "c842c754-2d28-48b5-c12a-25eda3ed61ca"
      },
      "source": [
        "#set doesn't allow duplicates. They store only one instance.\n",
        "s = {1, 2, 3, 1, 4}\n",
        "print(s)"
      ],
      "execution_count": null,
      "outputs": [
        {
          "output_type": "stream",
          "text": [
            "{1, 2, 3, 4}\n"
          ],
          "name": "stdout"
        }
      ]
    },
    {
      "cell_type": "code",
      "metadata": {
        "id": "HgNZ6MQ_f7fc",
        "outputId": "d3082447-a3cb-4304-c50f-52f0ec54653a"
      },
      "source": [
        "#we can make set from a list\n",
        "s = set([1, 2, 3, 1])\n",
        "print(s)"
      ],
      "execution_count": null,
      "outputs": [
        {
          "output_type": "stream",
          "text": [
            "{1, 2, 3}\n"
          ],
          "name": "stdout"
        }
      ]
    },
    {
      "cell_type": "code",
      "metadata": {
        "id": "d6oyouf6f7fd",
        "outputId": "f9787f28-b285-483a-b9ea-deb412e4b2ab"
      },
      "source": [
        "#initialize a set  with set() method\n",
        "s = set()\n",
        "\n",
        "print(type(s))"
      ],
      "execution_count": null,
      "outputs": [
        {
          "output_type": "stream",
          "text": [
            "<class 'set'>\n"
          ],
          "name": "stdout"
        }
      ]
    },
    {
      "cell_type": "markdown",
      "metadata": {
        "id": "_qUWwRArf7fd"
      },
      "source": [
        "# Add element to a Set"
      ]
    },
    {
      "cell_type": "code",
      "metadata": {
        "id": "MlMxhz1Zf7fe",
        "outputId": "24df029d-4f56-493e-f969-db59c75ff863"
      },
      "source": [
        "#we can add single element using add() method and \n",
        "#add multiple elements using update() method\n",
        "s = {1, 3}\n",
        "\n",
        "#set object doesn't support indexing\n",
        "print(s[1]) #will get TypeError"
      ],
      "execution_count": null,
      "outputs": [
        {
          "output_type": "error",
          "ename": "TypeError",
          "evalue": "'set' object does not support indexing",
          "traceback": [
            "\u001b[0;31m---------------------------------------------------------------------------\u001b[0m",
            "\u001b[0;31mTypeError\u001b[0m                                 Traceback (most recent call last)",
            "\u001b[0;32m<ipython-input-4-c52fc339e293>\u001b[0m in \u001b[0;36m<module>\u001b[0;34m()\u001b[0m\n\u001b[1;32m      4\u001b[0m \u001b[0;34m\u001b[0m\u001b[0m\n\u001b[1;32m      5\u001b[0m \u001b[0;31m#set object doesn't support indexing\u001b[0m\u001b[0;34m\u001b[0m\u001b[0;34m\u001b[0m\u001b[0m\n\u001b[0;32m----> 6\u001b[0;31m \u001b[0mprint\u001b[0m\u001b[0;34m(\u001b[0m\u001b[0ms\u001b[0m\u001b[0;34m[\u001b[0m\u001b[0;36m1\u001b[0m\u001b[0;34m]\u001b[0m\u001b[0;34m)\u001b[0m \u001b[0;31m#will get TypeError\u001b[0m\u001b[0;34m\u001b[0m\u001b[0m\n\u001b[0m",
            "\u001b[0;31mTypeError\u001b[0m: 'set' object does not support indexing"
          ]
        }
      ]
    },
    {
      "cell_type": "code",
      "metadata": {
        "id": "SlXIKY05f7ff",
        "outputId": "7b648734-67c2-4bcc-f4c7-3ddc162b3f87"
      },
      "source": [
        "#add element\n",
        "s.add(2)\n",
        "print(s)"
      ],
      "execution_count": null,
      "outputs": [
        {
          "output_type": "stream",
          "text": [
            "{1, 2, 3}\n"
          ],
          "name": "stdout"
        }
      ]
    },
    {
      "cell_type": "code",
      "metadata": {
        "id": "f9Tzhfnwf7fg",
        "outputId": "d7d2a905-4aea-45cd-b7c8-a31f89421f3b"
      },
      "source": [
        "#add multiple elements\n",
        "s.update([5, 6, 1])\n",
        "print(s)"
      ],
      "execution_count": null,
      "outputs": [
        {
          "output_type": "stream",
          "text": [
            "{1, 2, 3, 5, 6}\n"
          ],
          "name": "stdout"
        }
      ]
    },
    {
      "cell_type": "code",
      "metadata": {
        "id": "rlv5Hf21f7fg",
        "outputId": "490bb19f-62b7-456b-ad81-c1e4659560fb"
      },
      "source": [
        "#add list and set\n",
        "s.update([8, 9], {10, 2, 3})\n",
        "print(s)"
      ],
      "execution_count": null,
      "outputs": [
        {
          "output_type": "stream",
          "text": [
            "{1, 2, 3, 5, 6, 8, 9, 10}\n"
          ],
          "name": "stdout"
        }
      ]
    },
    {
      "cell_type": "markdown",
      "metadata": {
        "id": "xAY3ADpTf7fh"
      },
      "source": [
        "# Remove elements from a Set"
      ]
    },
    {
      "cell_type": "code",
      "metadata": {
        "id": "wn3hbizSf7fh",
        "outputId": "89b58e85-8b2d-416b-ce8b-1b35ee61e318"
      },
      "source": [
        "#A particular item can be removed from set using methods, \n",
        "#discard() and remove().\n",
        "\n",
        "s = {1, 2, 3, 5, 4}\n",
        "print(s)\n",
        "\n",
        "s.discard(4)    #4 is removed from set s\n",
        "\n",
        "print(s)"
      ],
      "execution_count": null,
      "outputs": [
        {
          "output_type": "stream",
          "text": [
            "{1, 2, 3, 4, 5}\n",
            "{1, 2, 3, 5}\n"
          ],
          "name": "stdout"
        }
      ]
    },
    {
      "cell_type": "code",
      "metadata": {
        "id": "8fwFNs-Uf7fi",
        "outputId": "fe3a2973-bcc0-44e1-c027-7e9bd97b3552"
      },
      "source": [
        "#remove an element \n",
        "s.remove(2)\n",
        "\n",
        "print(s)"
      ],
      "execution_count": null,
      "outputs": [
        {
          "output_type": "stream",
          "text": [
            "{1, 3, 5}\n"
          ],
          "name": "stdout"
        }
      ]
    },
    {
      "cell_type": "code",
      "metadata": {
        "id": "bP1rku0Yf7fi",
        "outputId": "d9b48f23-881f-4820-c99b-586854066baa"
      },
      "source": [
        "#remove an element not present in a set s\n",
        "s.remove(7) # will get KeyError"
      ],
      "execution_count": null,
      "outputs": [
        {
          "output_type": "error",
          "ename": "KeyError",
          "evalue": "7",
          "traceback": [
            "\u001b[0;31m---------------------------------------------------------------------------\u001b[0m",
            "\u001b[0;31mKeyError\u001b[0m                                  Traceback (most recent call last)",
            "\u001b[0;32m<ipython-input-14-f37cc9806699>\u001b[0m in \u001b[0;36m<module>\u001b[0;34m()\u001b[0m\n\u001b[1;32m      1\u001b[0m \u001b[0;31m#remove an element not present in a set s\u001b[0m\u001b[0;34m\u001b[0m\u001b[0;34m\u001b[0m\u001b[0m\n\u001b[0;32m----> 2\u001b[0;31m \u001b[0ms\u001b[0m\u001b[0;34m.\u001b[0m\u001b[0mremove\u001b[0m\u001b[0;34m(\u001b[0m\u001b[0;36m7\u001b[0m\u001b[0;34m)\u001b[0m \u001b[0;31m# will get KeyError\u001b[0m\u001b[0;34m\u001b[0m\u001b[0m\n\u001b[0m",
            "\u001b[0;31mKeyError\u001b[0m: 7"
          ]
        }
      ]
    },
    {
      "cell_type": "code",
      "metadata": {
        "id": "2xmVy3TPf7fj",
        "outputId": "7b0ce094-f40c-4a84-95ec-d7af1aa061a5"
      },
      "source": [
        "#discard an element not present in a set s\n",
        "s.discard(7)\n",
        "print(s)"
      ],
      "execution_count": null,
      "outputs": [
        {
          "output_type": "stream",
          "text": [
            "{1, 3, 5}\n"
          ],
          "name": "stdout"
        }
      ]
    },
    {
      "cell_type": "code",
      "metadata": {
        "id": "jXg9J9dOf7fj",
        "outputId": "6c74e98a-b959-4624-d103-d08e46650341"
      },
      "source": [
        "#we can remove item using pop() method\n",
        "\n",
        "s = {1, 2, 3, 5, 4}\n",
        "\n",
        "s.pop() #remove random element\n",
        "\n",
        "print(s)"
      ],
      "execution_count": null,
      "outputs": [
        {
          "output_type": "stream",
          "text": [
            "{2, 3, 4, 5}\n"
          ],
          "name": "stdout"
        }
      ]
    },
    {
      "cell_type": "code",
      "metadata": {
        "id": "O4AxYusYf7fk",
        "outputId": "58f63422-077f-4f95-d838-871ed771cb01"
      },
      "source": [
        "s.pop() \n",
        "print(s)"
      ],
      "execution_count": null,
      "outputs": [
        {
          "output_type": "stream",
          "text": [
            "{3, 4, 5}\n"
          ],
          "name": "stdout"
        }
      ]
    },
    {
      "cell_type": "code",
      "metadata": {
        "id": "Ar7gbCTlf7fk",
        "outputId": "6b723329-b253-4f36-9102-5f010424d60a"
      },
      "source": [
        "s = {1, 5, 2, 3, 6}\n",
        "\n",
        "s.clear()   #remove all items in set using clear() method\n",
        "\n",
        "print(s)"
      ],
      "execution_count": null,
      "outputs": [
        {
          "output_type": "stream",
          "text": [
            "set()\n"
          ],
          "name": "stdout"
        }
      ]
    },
    {
      "cell_type": "markdown",
      "metadata": {
        "id": "-F4qZjOuf7fl"
      },
      "source": [
        "# Python Set Operations"
      ]
    },
    {
      "cell_type": "code",
      "metadata": {
        "id": "0n82X-7pf7fl",
        "outputId": "b791c960-a9c7-4938-d60e-74b3b3a5d3c2"
      },
      "source": [
        "set1 = {1, 2, 3, 4, 5}\n",
        "set2 = {3, 4, 5, 6, 7}\n",
        "\n",
        "#union of 2 sets using | operator\n",
        "\n",
        "print(set1 | set2)"
      ],
      "execution_count": null,
      "outputs": [
        {
          "output_type": "stream",
          "text": [
            "{1, 2, 3, 4, 5, 6, 7}\n"
          ],
          "name": "stdout"
        }
      ]
    },
    {
      "cell_type": "code",
      "metadata": {
        "id": "hjLdBQBNf7fl",
        "outputId": "4010c3e2-0dcb-4643-9266-ae95cb1a574f"
      },
      "source": [
        "#another way of getting union of 2 sets\n",
        "print(set1.union(set2))"
      ],
      "execution_count": null,
      "outputs": [
        {
          "output_type": "stream",
          "text": [
            "{1, 2, 3, 4, 5, 6, 7}\n"
          ],
          "name": "stdout"
        }
      ]
    },
    {
      "cell_type": "code",
      "metadata": {
        "id": "xftJhVvPf7fm",
        "outputId": "bb11cfcc-7d9f-47c3-b555-27da0e91a7b6"
      },
      "source": [
        "#intersection of 2 sets using & operator\n",
        "print(set1 & set2)"
      ],
      "execution_count": null,
      "outputs": [
        {
          "output_type": "stream",
          "text": [
            "{3, 4, 5}\n"
          ],
          "name": "stdout"
        }
      ]
    },
    {
      "cell_type": "code",
      "metadata": {
        "id": "E25SiJUxf7fm",
        "outputId": "8c7bdff0-2464-4b08-ec7e-1c52859a4c22"
      },
      "source": [
        "#use intersection function \n",
        "print(set1.intersection(set2))"
      ],
      "execution_count": null,
      "outputs": [
        {
          "output_type": "stream",
          "text": [
            "{3, 4, 5}\n"
          ],
          "name": "stdout"
        }
      ]
    },
    {
      "cell_type": "code",
      "metadata": {
        "id": "kPZWP8Lrf7fm",
        "outputId": "7ebee979-04fa-4581-c933-4e7cc2b6fba4"
      },
      "source": [
        "#set Difference: set of elements that are only in set1 but not in set2\n",
        "\n",
        "print(set1 - set2)"
      ],
      "execution_count": null,
      "outputs": [
        {
          "output_type": "stream",
          "text": [
            "{1, 2}\n"
          ],
          "name": "stdout"
        }
      ]
    },
    {
      "cell_type": "code",
      "metadata": {
        "id": "OF4i8N5xf7fn",
        "outputId": "1c5e54d4-23d5-4274-95b1-da3291766c0c"
      },
      "source": [
        "#use differnce function \n",
        "print(set1.difference(set2))"
      ],
      "execution_count": null,
      "outputs": [
        {
          "output_type": "stream",
          "text": [
            "{1, 2}\n"
          ],
          "name": "stdout"
        }
      ]
    },
    {
      "cell_type": "code",
      "metadata": {
        "id": "onbFpVh9f7fn",
        "outputId": "3ea6d95d-b3fe-4db9-e973-4435226700a3"
      },
      "source": [
        "\"\"\"symmetric difference: set of elements in both set1 and set2 \n",
        "#except those that are common in both.\"\"\"\n",
        "\n",
        "#use ^ operator\n",
        "\n",
        "print(set1^set2)"
      ],
      "execution_count": null,
      "outputs": [
        {
          "output_type": "stream",
          "text": [
            "{1, 2, 6, 7}\n"
          ],
          "name": "stdout"
        }
      ]
    },
    {
      "cell_type": "code",
      "metadata": {
        "id": "ilf-UxzQf7fo",
        "outputId": "673a7627-7b91-480a-d2ec-636e6699adc6"
      },
      "source": [
        "#use symmetric_difference function\n",
        "print(set1.symmetric_difference(set2))"
      ],
      "execution_count": null,
      "outputs": [
        {
          "output_type": "stream",
          "text": [
            "{1, 2, 6, 7}\n"
          ],
          "name": "stdout"
        }
      ]
    },
    {
      "cell_type": "code",
      "metadata": {
        "id": "FoIYBRY6f7fo",
        "outputId": "d38dde17-3628-4be4-e926-3336c747899f"
      },
      "source": [
        "#find issubset()\n",
        "x = {\"a\",\"b\",\"c\",\"d\",\"e\"}\n",
        "y = {\"c\",\"d\"}\n",
        "\n",
        "print(\"set 'x' is subset of 'y' ?\", x.issubset(y)) #check x is subset of y\n",
        "\n",
        "#check y is subset of x\n",
        "print(\"set 'y' is subset of 'x' ?\", y.issubset(x))"
      ],
      "execution_count": null,
      "outputs": [
        {
          "output_type": "stream",
          "text": [
            "set 'x' is subset of 'y' ? False\n",
            "set 'y' is subset of 'x' ? True\n"
          ],
          "name": "stdout"
        }
      ]
    },
    {
      "cell_type": "markdown",
      "metadata": {
        "id": "H1SxtWPgf7fo"
      },
      "source": [
        "# Frozen Sets"
      ]
    },
    {
      "cell_type": "markdown",
      "metadata": {
        "collapsed": true,
        "id": "8cXyeipPf7fp"
      },
      "source": [
        "Frozen sets has the characteristics of sets, but we can't be changed once it's assigned. While tuple are immutable lists, frozen sets are immutable sets"
      ]
    },
    {
      "cell_type": "markdown",
      "metadata": {
        "id": "zGFjjnvyf7fp"
      },
      "source": [
        "Frozensets can be created using the function frozenset()"
      ]
    },
    {
      "cell_type": "markdown",
      "metadata": {
        "id": "V6f6e0oNf7fp"
      },
      "source": [
        "Sets being mutable are unhashable, so they can't be used as dictionary keys. On the other hand, frozensets are hashable and can be used as keys to a dictionary."
      ]
    },
    {
      "cell_type": "markdown",
      "metadata": {
        "id": "-nqvqGv1f7fp"
      },
      "source": [
        "This datatype supports methods like copy(), difference(), intersection(), isdisjoint(), issubset(), issuperset(), symmetric_difference() and union(). Being immutable it does not have method that add or remove elements."
      ]
    },
    {
      "cell_type": "code",
      "metadata": {
        "id": "jqoCM9M6f7fq",
        "outputId": "d2cd11f5-db85-4656-e6f8-a81b97729c12"
      },
      "source": [
        "set1 = frozenset([1, 2, 3, 4])\n",
        "set2 = frozenset([3, 4, 5, 6])\n",
        "\n",
        "#try to add element into set1 gives an error\n",
        "set1.add(5)"
      ],
      "execution_count": null,
      "outputs": [
        {
          "output_type": "error",
          "ename": "AttributeError",
          "evalue": "'frozenset' object has no attribute 'add'",
          "traceback": [
            "\u001b[0;31m---------------------------------------------------------------------------\u001b[0m",
            "\u001b[0;31mAttributeError\u001b[0m                            Traceback (most recent call last)",
            "\u001b[0;32m<ipython-input-28-8f5ea3d0c7e1>\u001b[0m in \u001b[0;36m<module>\u001b[0;34m()\u001b[0m\n\u001b[1;32m      3\u001b[0m \u001b[0;34m\u001b[0m\u001b[0m\n\u001b[1;32m      4\u001b[0m \u001b[0;31m#try to add element into set1 gives an error\u001b[0m\u001b[0;34m\u001b[0m\u001b[0;34m\u001b[0m\u001b[0m\n\u001b[0;32m----> 5\u001b[0;31m \u001b[0mset1\u001b[0m\u001b[0;34m.\u001b[0m\u001b[0madd\u001b[0m\u001b[0;34m(\u001b[0m\u001b[0;36m5\u001b[0m\u001b[0;34m)\u001b[0m\u001b[0;34m\u001b[0m\u001b[0m\n\u001b[0m",
            "\u001b[0;31mAttributeError\u001b[0m: 'frozenset' object has no attribute 'add'"
          ]
        }
      ]
    },
    {
      "cell_type": "code",
      "metadata": {
        "id": "NvZij0cGf7fq",
        "outputId": "df96d9d8-7f7d-4303-8785-168b64696769"
      },
      "source": [
        "print(set1[1]) # frozen set doesn't support indexing"
      ],
      "execution_count": null,
      "outputs": [
        {
          "output_type": "error",
          "ename": "TypeError",
          "evalue": "'frozenset' object does not support indexing",
          "traceback": [
            "\u001b[0;31m---------------------------------------------------------------------------\u001b[0m",
            "\u001b[0;31mTypeError\u001b[0m                                 Traceback (most recent call last)",
            "\u001b[0;32m<ipython-input-27-8fc108f08ec8>\u001b[0m in \u001b[0;36m<module>\u001b[0;34m()\u001b[0m\n\u001b[0;32m----> 1\u001b[0;31m \u001b[0mprint\u001b[0m\u001b[0;34m(\u001b[0m\u001b[0mset1\u001b[0m\u001b[0;34m[\u001b[0m\u001b[0;36m1\u001b[0m\u001b[0;34m]\u001b[0m\u001b[0;34m)\u001b[0m \u001b[0;31m# frozen set doesn't support indexing\u001b[0m\u001b[0;34m\u001b[0m\u001b[0m\n\u001b[0m",
            "\u001b[0;31mTypeError\u001b[0m: 'frozenset' object does not support indexing"
          ]
        }
      ]
    },
    {
      "cell_type": "code",
      "metadata": {
        "id": "dnNgMsvYf7fq",
        "outputId": "a846a9c5-9adc-4adf-9ef0-64d00cb5031a"
      },
      "source": [
        "print(set1 | set2) #union of 2 sets"
      ],
      "execution_count": null,
      "outputs": [
        {
          "output_type": "stream",
          "text": [
            "frozenset({1, 2, 3, 4, 5, 6})\n"
          ],
          "name": "stdout"
        }
      ]
    },
    {
      "cell_type": "code",
      "metadata": {
        "id": "pUJ0vzZff7fr",
        "outputId": "48fc1288-3acc-44d6-bba1-58e4539e5007"
      },
      "source": [
        "#intersection of two sets\n",
        "print(set1 & set2)\n",
        "\n",
        "#or \n",
        "print(set1.intersection(set2))"
      ],
      "execution_count": null,
      "outputs": [
        {
          "output_type": "stream",
          "text": [
            "frozenset({3, 4})\n",
            "frozenset({3, 4})\n"
          ],
          "name": "stdout"
        }
      ]
    },
    {
      "cell_type": "code",
      "metadata": {
        "id": "TFfaRX3Pf7fr",
        "outputId": "7cb6602e-0990-4516-f547-6e012896d46f"
      },
      "source": [
        "#symmetric difference\n",
        "print(set1 ^ set2)\n",
        "\n",
        "#or\n",
        "print(set1.symmetric_difference(set2))"
      ],
      "execution_count": null,
      "outputs": [
        {
          "output_type": "stream",
          "text": [
            "frozenset({1, 2, 5, 6})\n",
            "frozenset({1, 2, 5, 6})\n"
          ],
          "name": "stdout"
        }
      ]
    },
    {
      "cell_type": "code",
      "metadata": {
        "collapsed": true,
        "id": "6Ct4wfG9f7fr"
      },
      "source": [
        ""
      ],
      "execution_count": null,
      "outputs": []
    },
    {
      "cell_type": "code",
      "metadata": {
        "collapsed": true,
        "id": "S4VVgYx9f7fs"
      },
      "source": [
        ""
      ],
      "execution_count": null,
      "outputs": []
    }
  ]
}