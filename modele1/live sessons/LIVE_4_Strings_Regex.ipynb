{
  "nbformat": 4,
  "nbformat_minor": 0,
  "metadata": {
    "kernelspec": {
      "display_name": "Python 3",
      "language": "python",
      "name": "python3"
    },
    "language_info": {
      "codemirror_mode": {
        "name": "ipython",
        "version": 3
      },
      "file_extension": ".py",
      "mimetype": "text/x-python",
      "name": "python",
      "nbconvert_exporter": "python",
      "pygments_lexer": "ipython3",
      "version": "3.7.3"
    },
    "colab": {
      "name": "LIVE_4_Strings_Regex.ipynb",
      "provenance": [],
      "include_colab_link": true
    }
  },
  "cells": [
    {
      "cell_type": "markdown",
      "metadata": {
        "id": "view-in-github",
        "colab_type": "text"
      },
      "source": [
        "<a href=\"https://colab.research.google.com/github/sankar6305/pyismart/blob/main/modele1/live%20sessons/LIVE_4_Strings_Regex.ipynb\" target=\"_parent\"><img src=\"https://colab.research.google.com/assets/colab-badge.svg\" alt=\"Open In Colab\"/></a>"
      ]
    },
    {
      "cell_type": "markdown",
      "metadata": {
        "id": "N8giZObA435M"
      },
      "source": [
        "## LIVE 4: Strings and Regex \n",
        " - Focus: Basics of strings and regex in Python + Simple problem solving. \n",
        " - Prereq: Basic knowledge of Strings and Regex in Python + previous code-sessions.\n",
        " - Reference for basics: \n",
        "     - https://docs.python.org/3/howto/regex.html\n",
        "     - https://docs.python.org/3/library/re.html\n",
        "     - https://www.w3schools.com/python/python_strings.asp\n",
        "     - https://www.geeksforgeeks.org/python-strings/\n",
        "     "
      ]
    },
    {
      "cell_type": "markdown",
      "metadata": {
        "id": "9boERCQc435Q"
      },
      "source": [
        "## Quick recap of Regex in Python\n",
        "- Go through multiple examples to understand regex better\n",
        "- Key life-skill: learn from resources on the internet.\n",
        "- https://docs.python.org/3/howto/regex.html\n",
        "- https://www.w3schools.com/python/python_regex.asp\n",
        "- https://www.tutorialspoint.com/python/python_reg_expressions.htm\n"
      ]
    },
    {
      "cell_type": "markdown",
      "metadata": {
        "id": "l1QO7Aw-435R"
      },
      "source": [
        "## Problem-1: Mask personal information in email and phone numbers"
      ]
    },
    {
      "cell_type": "markdown",
      "metadata": {
        "id": "4vhsiQTQ435S"
      },
      "source": [
        "- Email: xxxxxxxxx@aaaa.zzzz\n",
        "    - Masked:x#####x@aaaa.zzzz [FIVE # between first and last char of the name]  \n",
        "    \n",
        "    <br>\n",
        "    \n",
        "- Phone:  digits 0-9 or any of the characters from  { '-', '(', ')', ' '} \n",
        "    - Example: 1(234)567-890   --> ###-###-7890\"\n",
        "    "
      ]
    },
    {
      "cell_type": "code",
      "metadata": {
        "id": "osI3ZE60435U",
        "outputId": "0f89214a-1dc5-4a9e-d80d-1d3d3aa0e9a3"
      },
      "source": [
        "# email-masking\n",
        "s = \"abcd@efgh.com\";\n",
        "\n",
        "#output: a#####d@efgh.com\n",
        "# Any suggestions?\n",
        "#\n",
        "#\n",
        "#\n",
        "#\n",
        "#\n",
        "#\n",
        "#\n",
        "#\n",
        "#\n",
        "#\n",
        "#\n",
        "#\n",
        "#\n",
        "#\n",
        "#\n",
        "#\n",
        "#\n",
        "#\n",
        "#\n",
        "#\n",
        "#\n",
        "#\n",
        "#\n",
        "#\n",
        "#\n",
        "#\n",
        "#\n",
        "#\n",
        "#\n",
        "#\n",
        "#\n",
        "#\n",
        "#\n",
        "#\n",
        "#\n",
        "#\n",
        "#\n",
        "#\n",
        "\n",
        "#simple string formatting : https://www.programiz.com/python-programming/methods/string/format\n",
        "\n",
        "from IPython.display import Image\n",
        "Image(url= \"https://cdn.programiz.com/sites/tutorial2program/files/python-format-positional-argument.jpg\")\n",
        "\n"
      ],
      "execution_count": null,
      "outputs": [
        {
          "output_type": "execute_result",
          "data": {
            "text/html": [
              "<img src=\"https://cdn.programiz.com/sites/tutorial2program/files/python-format-positional-argument.jpg\"/>"
            ],
            "text/plain": [
              "<IPython.core.display.Image object>"
            ]
          },
          "metadata": {
            "tags": []
          },
          "execution_count": 13
        }
      ]
    },
    {
      "cell_type": "code",
      "metadata": {
        "id": "4pvGimE4435Z",
        "outputId": "410e79bd-2805-4a9e-b9e1-4f2b269eed7d"
      },
      "source": [
        "# boundary case: check if email or not\n",
        "s = \"abcd@efgh.com\";\n",
        "\n",
        "def maskEmail(s):\n",
        "    if '@' in s: \n",
        "        name, domain = s.split('@')\n",
        "        return (\"{0}#####{1}@{2}\".format(name[0], name[-1], domain));\n",
        "\n",
        "print(maskEmail(s))"
      ],
      "execution_count": null,
      "outputs": [
        {
          "output_type": "stream",
          "text": [
            "a#####d@efgh.com\n"
          ],
          "name": "stdout"
        }
      ]
    },
    {
      "cell_type": "code",
      "metadata": {
        "id": "mbe9fQHK435a",
        "outputId": "4ee622c8-af14-488f-93a8-94821195922e"
      },
      "source": [
        "# BOUDNARY CASE: a@bcdef.com\n",
        "print(maskEmail(\"a@bcdef.com\"))"
      ],
      "execution_count": null,
      "outputs": [
        {
          "output_type": "stream",
          "text": [
            "a#####a@bcdef.com\n"
          ],
          "name": "stdout"
        }
      ]
    },
    {
      "cell_type": "code",
      "metadata": {
        "id": "JQ8rMY_4435a",
        "outputId": "07dbd58c-d141-40fe-9b19-89de5f0280b4"
      },
      "source": [
        "# BOUDNARY CASE: abcd.com\n",
        "print(maskEmail(\"abcd.com\"))"
      ],
      "execution_count": null,
      "outputs": [
        {
          "output_type": "stream",
          "text": [
            "None\n"
          ],
          "name": "stdout"
        }
      ]
    },
    {
      "cell_type": "code",
      "metadata": {
        "id": "EHWyihgT435b",
        "outputId": "4fad0f8a-38e0-4e76-8065-d1471ce43baa"
      },
      "source": [
        "# BOUDNARY CASE: abcd@cdef\n",
        "print(maskEmail(\"abcd@cdef\"))"
      ],
      "execution_count": null,
      "outputs": [
        {
          "output_type": "stream",
          "text": [
            "a#####d@cdef\n"
          ],
          "name": "stdout"
        }
      ]
    },
    {
      "cell_type": "code",
      "metadata": {
        "id": "pO3FNCSG435c",
        "outputId": "40d990c7-ad69-4b2a-a4ec-348b70da6c66"
      },
      "source": [
        "# Check if email is valid is another function.\n",
        "# Any suggestions?\n",
        "#\n",
        "#\n",
        "#\n",
        "#\n",
        "#\n",
        "#\n",
        "#\n",
        "#\n",
        "#\n",
        "#\n",
        "#\n",
        "#\n",
        "#\n",
        "#\n",
        "#\n",
        "#\n",
        "#\n",
        "#\n",
        "#\n",
        "#\n",
        "#\n",
        "#\n",
        "#\n",
        "#\n",
        "#\n",
        "#\n",
        "#\n",
        "#\n",
        "#\n",
        "#\n",
        "#\n",
        "#\n",
        "#\n",
        "#\n",
        "#\n",
        "#\n",
        "#\n",
        "#\n",
        "import re\n",
        "def isValidEmail(s):\n",
        "    #refer:https://www.w3schools.com/python/python_regex.asp for regex syntax\n",
        "    #https://docs.python.org/2/library/re.html\n",
        "    \n",
        "    res = re.search('^\\w+([\\.-]?\\w+)*@\\w+([\\.-]?\\w+)*(\\.\\w{2,3})+$', s, re.IGNORECASE)   #https://www.geeksforgeeks.org/check-if-email-address-valid-or-not-in-python/   \n",
        "    print(res)\n",
        "    \n",
        "    if(res):\n",
        "        return True;\n",
        "    else:\n",
        "        return False;\n",
        "\n",
        "print(isValidEmail(\"abcd@cdef\"))"
      ],
      "execution_count": null,
      "outputs": [
        {
          "output_type": "stream",
          "text": [
            "None\n",
            "False\n"
          ],
          "name": "stdout"
        }
      ]
    },
    {
      "cell_type": "code",
      "metadata": {
        "id": "f7EMDqx5435d",
        "outputId": "196ecbaa-29f8-4221-bb1c-668dd0c788e8"
      },
      "source": [
        "print(isValidEmail(\"abcd@cdef.c\"))"
      ],
      "execution_count": null,
      "outputs": [
        {
          "output_type": "stream",
          "text": [
            "None\n",
            "False\n"
          ],
          "name": "stdout"
        }
      ]
    },
    {
      "cell_type": "code",
      "metadata": {
        "id": "alQvwfPk435e",
        "outputId": "f2dc0f7a-34e0-4097-d9ee-61b0e79e1992"
      },
      "source": [
        "print(isValidEmail(\"a@cdef.com\"))"
      ],
      "execution_count": null,
      "outputs": [
        {
          "output_type": "stream",
          "text": [
            "<re.Match object; span=(0, 10), match='a@cdef.com'>\n",
            "True\n"
          ],
          "name": "stdout"
        }
      ]
    },
    {
      "cell_type": "code",
      "metadata": {
        "id": "f08ys-ci435f",
        "outputId": "14452465-2faf-4348-8e2f-d49f7b0c1979"
      },
      "source": [
        "print(isValidEmail(\"abcd@iisc.ac.in\"))"
      ],
      "execution_count": null,
      "outputs": [
        {
          "output_type": "stream",
          "text": [
            "<re.Match object; span=(0, 15), match='abcd@iisc.ac.in'>\n",
            "True\n"
          ],
          "name": "stdout"
        }
      ]
    },
    {
      "cell_type": "code",
      "metadata": {
        "id": "0TLhTCLR435g",
        "outputId": "18b1cea8-8a5b-42a8-97af-058bf6345566"
      },
      "source": [
        "regex = '^\\w+([\\.-]?\\w+)*@\\w+([\\.-]?\\w+)*(\\.\\w{2,3})+$' # highly non-readbale code\n",
        "\n",
        "#https://docs.python.org/2/library/re.html\n",
        "regex_verbose = re.compile(r\"\"\"                  # VERY readable and easy to understand. Software maintanability.\n",
        "            ^\\w+([\\.-]?\\w+)*              # start, \\w+, \n",
        "            @                             # single @ sign \n",
        "            \\w+([\\.-]?\\w+)*               # Domain name \n",
        "            (\\.\\w{2,3})+$                 # .com, .ac.in,    \n",
        "             \"\"\",re.VERBOSE | re.IGNORECASE)          \n",
        "\n",
        "\n",
        "res = regex_verbose.match(\"abcd@iisc.ac.in\");\n",
        "\n",
        "print(res.string)\n",
        "print(res)"
      ],
      "execution_count": null,
      "outputs": [
        {
          "output_type": "stream",
          "text": [
            "abcd@iisc.ac.in\n",
            "<re.Match object; span=(0, 15), match='abcd@iisc.ac.in'>\n"
          ],
          "name": "stdout"
        }
      ]
    },
    {
      "cell_type": "code",
      "metadata": {
        "id": "KWidpn2X435g",
        "outputId": "c7221f78-e9e4-42c8-cd33-7bda08e26541"
      },
      "source": [
        "# PHONE NUMBER MASKING\n",
        "#Example: 1(234)567-890 --> ###-###-7890\"\n",
        "\n",
        "\n",
        "ph = \"1(234)567-890\"\n",
        "\n",
        "\n",
        "digits = re.sub(\"\\D\", \"\", ph)  # \\D=>non-decimal, re.substitute, https://docs.python.org/3/library/re.html \n",
        "\n",
        "print(digits)\n",
        "    \n",
        "masked =  \"###-###-{}\".format(digits[-4:])\n",
        "print(masked)\n",
        "\n"
      ],
      "execution_count": null,
      "outputs": [
        {
          "output_type": "stream",
          "text": [
            "1234567890\n",
            "###-###-7890\n"
          ],
          "name": "stdout"
        }
      ]
    },
    {
      "cell_type": "code",
      "metadata": {
        "id": "VpfN2nt2435h",
        "outputId": "75aebb22-9da2-469d-b6a1-fed286ab1c58"
      },
      "source": [
        "def maskPhoneNum(ph):\n",
        "    digits = re.sub(\"\\D\", \"\", ph)  # \\D=>non-decimal, re.substitute, https://docs.python.org/3/library/re.html \n",
        "    if len(digits) != 10: # BOUNDARY CASE\n",
        "        return None;\n",
        "    else:\n",
        "        masked =  \"###-###-{}\".format(digits[-4:])\n",
        "        return masked\n",
        "\n",
        "print(maskPhoneNum(\"1(234)567-890\"))\n"
      ],
      "execution_count": null,
      "outputs": [
        {
          "output_type": "stream",
          "text": [
            "###-###-7890\n"
          ],
          "name": "stdout"
        }
      ]
    },
    {
      "cell_type": "markdown",
      "metadata": {
        "id": "g5Uotp-N435i"
      },
      "source": [
        "print(maskPhoneNum(\"1(234)567-89\"))"
      ]
    },
    {
      "cell_type": "markdown",
      "metadata": {
        "id": "H5wkChQE435j"
      },
      "source": [
        "#### Exercise:  12 digit phone numbers with 2 digits of ISD  code strtaing with + \n",
        "- e.g: +86-(99)12345678    ---->  (+86)-###-###-5678\n",
        "************\n",
        "************\n",
        "************************\n",
        "************\n",
        "************\n",
        "************\n",
        "************\n"
      ]
    },
    {
      "cell_type": "markdown",
      "metadata": {
        "id": "__cvzd-w435k"
      },
      "source": [
        "## Problem 2: Extract data from a PDF invoice"
      ]
    },
    {
      "cell_type": "markdown",
      "metadata": {
        "id": "fKYzKMel435k"
      },
      "source": [
        "- Given a PDF [https://slicedinvoices.com/pdf/wordpress-pdf-invoice-plugin-sample.pdf], extract predefined key fields from this PDF\n",
        "- Assume the format is fixed.\n"
      ]
    },
    {
      "cell_type": "markdown",
      "metadata": {
        "id": "rzh7zm7c435k"
      },
      "source": [
        "#### NOTE: Download and save the above PDF as invoice.pdf in the same folder as your iPython notebook for the following code to work\n"
      ]
    },
    {
      "cell_type": "code",
      "metadata": {
        "id": "CTiF5FKV435l",
        "outputId": "28fc1899-301c-444d-fca7-20e3aeb6c675"
      },
      "source": [
        "# https://realpython.com/pdf-python/#history-of-pypdf-pypdf2-and-pypdf4\n",
        "\n",
        "!pip3 install pyPDF4\n"
      ],
      "execution_count": null,
      "outputs": [
        {
          "output_type": "stream",
          "text": [
            "Collecting pyPDF4\n",
            "\u001b[?25l  Downloading https://files.pythonhosted.org/packages/4f/1f/509b44850c475c101aa5b5c9b81755cedd363389d6fbb5c53be6fa915a61/PyPDF4-1.27.0.tar.gz (63kB)\n",
            "\u001b[K    100% |████████████████████████████████| 71kB 1.5MB/s ta 0:00:011\n",
            "\u001b[?25hBuilding wheels for collected packages: pyPDF4\n",
            "  Building wheel for pyPDF4 (setup.py) ... \u001b[?25ldone\n",
            "\u001b[?25h  Stored in directory: /Users/varma/Library/Caches/pip/wheels/eb/4f/15/c64d533cb496fd874f56045fe30e8cc0ac59f99ecdd718040d\n",
            "Successfully built pyPDF4\n",
            "Installing collected packages: pyPDF4\n",
            "Successfully installed pyPDF4-1.27.0\n"
          ],
          "name": "stdout"
        }
      ]
    },
    {
      "cell_type": "code",
      "metadata": {
        "id": "vuI-PjeT435m",
        "outputId": "3b7732b2-b676-48c6-ec56-839fd0dfa2f8"
      },
      "source": [
        "# Google \"pyPDF extract text\" ---> https://www.soudegesu.com/en/post/python/extract-text-from-pdf-with-pypdf2/\n",
        "import PyPDF4\n",
        "\n",
        "FILE_PATH = './invoice.pdf'\n",
        "\n",
        "with open(FILE_PATH, mode='rb') as f:\n",
        "    reader = PyPDF4.PdfFileReader(f)\n",
        "    page = reader.getPage(0)\n",
        "    print(page.extractText())\n"
      ],
      "execution_count": null,
      "outputs": [
        {
          "output_type": "stream",
          "text": [
            "Invoice\n",
            "Payment is due within 30 days from date of invoice. Late payment is subject to fees of 5% per month.\n",
            "Thanks for choosing \n",
            "DEMO - Sliced Invoices\n",
            " | \n",
            "admin@slicedinvoices.com\n",
            "Page 1/1\n",
            "From:\n",
            "DEMO - Sliced Invoices\n",
            "Suite 5A-1204\n",
            "123 Somewhere Street\n",
            "Your City AZ 12345\n",
            "admin@slicedinvoices.com\n",
            "Invoice Number\n",
            "INV-3337\n",
            "Order Number\n",
            "12345\n",
            "Invoice Date\n",
            "January 25, 2016\n",
            "Due Date\n",
            "January 31, 2016\n",
            "Total Due\n",
            "$93.50\n",
            "To:\n",
            "Test Business\n",
            "123 Somewhere St\n",
            "Melbourne, VIC 3000\n",
            "test@test.com\n",
            "Hrs/Qty\n",
            "Service\n",
            "Rate/Price\n",
            "Adjust\n",
            "Sub Total\n",
            "1.00\n",
            "Web Design\n",
            "This is a sample description...\n",
            "$85.00\n",
            "0.00%\n",
            "$85.00\n",
            "Sub Total\n",
            "$85.00\n",
            "Tax\n",
            "$8.50\n",
            "Total\n",
            "$93.50\n",
            "ANZ Bank\n",
            "ACC # 1234 1234\n",
            "BSB # 4321 432\n",
            "Paid\n",
            "\n"
          ],
          "name": "stdout"
        }
      ]
    },
    {
      "cell_type": "code",
      "metadata": {
        "id": "Xv3nyrVG435n"
      },
      "source": [
        "import PyPDF4\n",
        "\n",
        "FILE_PATH = './invoice.pdf'\n",
        "\n",
        "with open(FILE_PATH, mode='rb') as f:\n",
        "    reader = PyPDF4.PdfFileReader(f)\n",
        "    page = reader.getPage(0)\n",
        "    txt = page.extractText();"
      ],
      "execution_count": null,
      "outputs": []
    },
    {
      "cell_type": "code",
      "metadata": {
        "id": "sPmKlroM435n",
        "outputId": "89ec5e9c-dc08-4149-f5fb-bf473163a444"
      },
      "source": [
        "# extract invoice number\n",
        "\n",
        "m = re.findall(\"INV-[0-9]*\", txt)\n",
        "print(m)\n"
      ],
      "execution_count": null,
      "outputs": [
        {
          "output_type": "stream",
          "text": [
            "['INV-3337']\n"
          ],
          "name": "stdout"
        }
      ]
    },
    {
      "cell_type": "code",
      "metadata": {
        "id": "CfmF7iIv435n",
        "outputId": "3025422c-88a2-47e3-a4b1-e8dbd5420f0f"
      },
      "source": [
        "# extract amounts\n",
        "m = re.findall(\"$[0-9]*\\.[0-9]*\", txt)\n",
        "print(m)\n"
      ],
      "execution_count": null,
      "outputs": [
        {
          "output_type": "stream",
          "text": [
            "[]\n"
          ],
          "name": "stdout"
        }
      ]
    },
    {
      "cell_type": "code",
      "metadata": {
        "id": "pRl2vZVM435o"
      },
      "source": [
        ""
      ],
      "execution_count": null,
      "outputs": []
    },
    {
      "cell_type": "code",
      "metadata": {
        "id": "NTW6TQwJ435o",
        "outputId": "840ab191-8ad2-4924-c33d-3fb994832182"
      },
      "source": [
        "\n",
        "# extract amounts\n",
        "m = re.findall(\"\\$[0-9]*\\.[0-9]*\", txt)\n",
        "print(m)\n"
      ],
      "execution_count": null,
      "outputs": [
        {
          "output_type": "stream",
          "text": [
            "['$93.50', '$85.00', '$85.00', '$85.00', '$8.50', '$93.50']\n"
          ],
          "name": "stdout"
        }
      ]
    },
    {
      "cell_type": "markdown",
      "metadata": {
        "id": "3SB752bo435p"
      },
      "source": [
        "*********\n",
        "*********\n",
        "*********\n",
        "*********\n",
        "*********\n",
        "******************\n",
        "*********\n",
        "*********\n",
        "******************\n",
        "*********\n"
      ]
    },
    {
      "cell_type": "code",
      "metadata": {
        "id": "90tljTS-435p",
        "outputId": "72e66ef6-6a7a-4085-e158-5f48f8f86157"
      },
      "source": [
        "# Extract Total Due:\n",
        "m = re.findall(\"Total Due\\$[0-9]*\\.[0-9]*\", txt)\n",
        "print(m)\n",
        "\n"
      ],
      "execution_count": null,
      "outputs": [
        {
          "output_type": "stream",
          "text": [
            "[]\n"
          ],
          "name": "stdout"
        }
      ]
    },
    {
      "cell_type": "code",
      "metadata": {
        "id": "vUMFtrwj435q",
        "outputId": "ffb32059-6149-4530-d95c-fef297348936"
      },
      "source": [
        "# Any suggestions?\n",
        "#\n",
        "#\n",
        "#\n",
        "#\n",
        "#\n",
        "#\n",
        "#\n",
        "#\n",
        "#\n",
        "#\n",
        "#\n",
        "#\n",
        "#\n",
        "#\n",
        "#\n",
        "#\n",
        "#\n",
        "#\n",
        "#\n",
        "#\n",
        "#\n",
        "#\n",
        "#\n",
        "#\n",
        "#\n",
        "#\n",
        "#\n",
        "#\n",
        "#\n",
        "#\n",
        "#\n",
        "#\n",
        "#\n",
        "#\n",
        "#\n",
        "#\n",
        "#\n",
        "#\n",
        "# Extract Total Due:\n",
        "m = re.findall(\"Total Due\\n\\$[0-9]*\\.[0-9]*\", txt)\n",
        "print(m)"
      ],
      "execution_count": null,
      "outputs": [
        {
          "output_type": "stream",
          "text": [
            "['Total Due\\n$93.50']\n"
          ],
          "name": "stdout"
        }
      ]
    },
    {
      "cell_type": "code",
      "metadata": {
        "id": "UCGBHOmv435q",
        "outputId": "3380471c-dc35-448c-fa97-4fec375f178f"
      },
      "source": [
        "print(re.findall(\"\\$[0-9]*\\.[0-9]*\",m[0]))"
      ],
      "execution_count": null,
      "outputs": [
        {
          "output_type": "stream",
          "text": [
            "['$93.50']\n"
          ],
          "name": "stdout"
        }
      ]
    },
    {
      "cell_type": "markdown",
      "metadata": {
        "id": "sY6lkI81435r"
      },
      "source": [
        "### Ques: How do we handle cases where we want to extract data from multiple invoice formats?\n",
        "\n",
        "\n",
        "#### Assignment: Extract email-addresses from the PDF\n",
        "\n",
        "#### We will continue from here tomorrow. Pelase go through regex- referecnes in detail for tomorrow's session. We will solve a few product based company interview questions."
      ]
    },
    {
      "cell_type": "code",
      "metadata": {
        "id": "YIh7I1FD435r"
      },
      "source": [
        ""
      ],
      "execution_count": null,
      "outputs": []
    }
  ]
}