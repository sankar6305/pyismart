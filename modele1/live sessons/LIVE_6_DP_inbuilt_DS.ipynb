{
  "nbformat": 4,
  "nbformat_minor": 0,
  "metadata": {
    "celltoolbar": "Slideshow",
    "kernelspec": {
      "display_name": "Python 3",
      "language": "python",
      "name": "python3"
    },
    "language_info": {
      "codemirror_mode": {
        "name": "ipython",
        "version": 3
      },
      "file_extension": ".py",
      "mimetype": "text/x-python",
      "name": "python",
      "nbconvert_exporter": "python",
      "pygments_lexer": "ipython3",
      "version": "3.7.3"
    },
    "colab": {
      "name": "LIVE_6_DP_inbuilt_DS.ipynb",
      "provenance": [],
      "include_colab_link": true
    }
  },
  "cells": [
    {
      "cell_type": "markdown",
      "metadata": {
        "id": "view-in-github",
        "colab_type": "text"
      },
      "source": [
        "<a href=\"https://colab.research.google.com/github/sankar6305/pyismart/blob/main/modele1/live%20sessons/LIVE_6_DP_inbuilt_DS.ipynb\" target=\"_parent\"><img src=\"https://colab.research.google.com/assets/colab-badge.svg\" alt=\"Open In Colab\"/></a>"
      ]
    },
    {
      "cell_type": "markdown",
      "metadata": {
        "id": "mq7LLRtW8gkN"
      },
      "source": [
        "## LIVE 6: Dynamic Programming + inbuilt-DS\n",
        " - Focus: Dynamic programming example , where to use which DS in Python\n",
        " - Prereq: Previous code-sessions + Basic knowledge of inbuilt DS in Python(list, tuple, dict, set)\n",
        " - Reference for basics: \n",
        "     - https://docs.python.org/3/tutorial/datastructures.html#\n",
        "     - https://www.geeksforgeeks.org/inbuilt-data-structures-python/\n",
        "    \n",
        " "
      ]
    },
    {
      "cell_type": "markdown",
      "metadata": {
        "id": "1Ofll3kW8gkQ"
      },
      "source": [
        "## Problem 4:  Regex matching problem\n",
        "- \"?\" matches a single character\n",
        "- \"*\" matches zero or more charcters\n",
        "- Given a pattern(p) and a string(s), does p match s?\n",
        "- examples: \n",
        "    - TRUE: (\"\\*\", \"ab\"), (\"?a\" ,\"ba\"), (\"?a\" ,\"aa\"), (\"a\\*\" ,\"a\")\n",
        "    - FALSE: (\"\\*a\", \"ab\"), (\"?a\" ,\"baa\"), (\"?a\" ,\"a\"), (\"a\\*\" ,\"ba\")\n",
        "\n",
        "- Very popular interview question at product-based companies for SDEs.\n",
        "- Small variations of this are often used in interviews\n",
        "\n",
        "- Any suggestions?\n"
      ]
    },
    {
      "cell_type": "code",
      "metadata": {
        "id": "g_s2czF08gkR"
      },
      "source": [
        "# Handle all cases of recursion thoroughly.\n",
        "\n",
        "def isMatch(p,s):\n",
        "    \n",
        "    print(p,s) # print statemnt for debugging\n",
        "    \n",
        "    # boundary cases of recursion\n",
        "    if p == s:\n",
        "        return True\n",
        "    \n",
        "    if p == \"*\":\n",
        "        return True\n",
        "    \n",
        "    if p == \"\" or s == \"\":\n",
        "        return False\n",
        "    \n",
        "    # recursion case-1\n",
        "    if p[0] == s[0] or p[0] == '?':\n",
        "        return isMatch(p[1:], s[1:])\n",
        "    \n",
        "    # recursion-case-2\n",
        "    if p[0] == '*':\n",
        "        return ( isMatch( p[1:], s) or isMatch( p, s[1:]))\n",
        "    \n",
        "    # last case: if p[0] is a character\n",
        "    if  p[0] != s[0]:\n",
        "        return False;\n",
        "        "
      ],
      "execution_count": null,
      "outputs": []
    },
    {
      "cell_type": "code",
      "metadata": {
        "id": "8OxQPvSB8gkT",
        "outputId": "20b98f6c-c69c-44b6-fb8f-bb8ccf502956"
      },
      "source": [
        "print(isMatch(\"*\",\"ab\"))\n"
      ],
      "execution_count": null,
      "outputs": [
        {
          "output_type": "stream",
          "text": [
            "* ab\n",
            "True\n"
          ],
          "name": "stdout"
        }
      ]
    },
    {
      "cell_type": "code",
      "metadata": {
        "id": "06yxGh958gkU",
        "outputId": "f264b55d-34a2-4fac-eae0-69c03a17d027"
      },
      "source": [
        "print(isMatch(\"?a\" ,\"baa\"))"
      ],
      "execution_count": null,
      "outputs": [
        {
          "output_type": "stream",
          "text": [
            "?a baa\n",
            "a aa\n",
            " a\n",
            "False\n"
          ],
          "name": "stdout"
        }
      ]
    },
    {
      "cell_type": "code",
      "metadata": {
        "id": "qHqMckBd8gkV",
        "outputId": "a6bc1025-99e6-4fe1-9d6e-11a7a8bf71fe"
      },
      "source": [
        "print(isMatch(\"a*\" ,\"ba\"))"
      ],
      "execution_count": null,
      "outputs": [
        {
          "output_type": "stream",
          "text": [
            "a* ba\n",
            "False\n"
          ],
          "name": "stdout"
        }
      ]
    },
    {
      "cell_type": "code",
      "metadata": {
        "id": "KLK6EY2U8gkV",
        "outputId": "cb2fa900-41c7-49a8-f03f-0d1bdad6bb14"
      },
      "source": [
        "# Worst case Time Complexity: T(n) = T(n-1) + T(n-1) = 2* T(n-1)\n",
        "\n",
        "# => T(n) = 0(2^n) [as shown below]\n",
        "\n",
        "\n",
        "from IPython.display import Image\n",
        "Image(url= \"https://i.imgur.com/dse47H3.png\")\n"
      ],
      "execution_count": null,
      "outputs": [
        {
          "output_type": "execute_result",
          "data": {
            "text/html": [
              "<img src=\"https://i.imgur.com/dse47H3.png\"/>"
            ],
            "text/plain": [
              "<IPython.core.display.Image object>"
            ]
          },
          "metadata": {
            "tags": []
          },
          "execution_count": 242
        }
      ]
    },
    {
      "cell_type": "code",
      "metadata": {
        "id": "4VbEfqfG8gkW",
        "outputId": "5f980226-33ba-4dd7-d3d1-029499f50567"
      },
      "source": [
        "# Can we do better?\n",
        "\n",
        "Image(url= \"https://i.imgur.com/Rx6tN8a.png\")"
      ],
      "execution_count": null,
      "outputs": [
        {
          "output_type": "execute_result",
          "data": {
            "text/html": [
              "<img src=\"https://i.imgur.com/Rx6tN8a.png\"/>"
            ],
            "text/plain": [
              "<IPython.core.display.Image object>"
            ]
          },
          "metadata": {
            "tags": []
          },
          "execution_count": 243
        }
      ]
    },
    {
      "cell_type": "code",
      "metadata": {
        "id": "CzAqspiC8gkX"
      },
      "source": [
        "# Overlapping sub-problems: \n",
        "# Why not store solutions to already solved problems in a dict (dp)\n",
        "# Dynamic programming: Recursion + overlapping subproblems\n",
        "\n",
        "\n",
        "# We discussed this in our course when we learn back-propogation in Deep-Learning.\n"
      ],
      "execution_count": null,
      "outputs": []
    },
    {
      "cell_type": "code",
      "metadata": {
        "id": "f3bkjdFb8gkX"
      },
      "source": [
        "# top-down DP using recursion and memoization (dp)\n",
        "\n",
        "\n",
        "\n",
        "def isMatchDP(pattern, string, pattern_start, string_start, dp ):\n",
        "    \n",
        "    #print(pattern_start, string_start);\n",
        "    \n",
        "    if  (pattern_start, string_start) in dp:\n",
        "        return dp[(pattern_start, string_start)]\n",
        "    \n",
        "    p = pattern[pattern_start:];\n",
        "    s = string[string_start:];\n",
        "    \n",
        "    \n",
        "    print(p,s) # print statemnt for debugging\n",
        "    \n",
        "    # boundary cases of recursion\n",
        "    if p == s:\n",
        "        dp[(pattern_start, string_start)] = True;\n",
        "        return True\n",
        "    \n",
        "    if p == \"*\":\n",
        "        dp[(pattern_start, string_start)] = True;\n",
        "        return True\n",
        "    \n",
        "    if p == \"\" or s == \"\":\n",
        "        dp[(pattern_start, string_start)] = False;\n",
        "        return False\n",
        "    \n",
        "    # recursion case-1\n",
        "    if p[0] == s[0] or p[0] == '?':\n",
        "        tmp = isMatchDP(pattern, string, pattern_start+1, string_start+1, dp)\n",
        "        d[(pattern_start, string_start)] = tmp;\n",
        "        return tmp;\n",
        "    \n",
        "    # recursion-case-2\n",
        "    if p[0] == '*':\n",
        "        tmp = ( isMatchDP( pattern, string, pattern_start+1, string_start, dp) or isMatchDP( pattern, string, pattern_start, string_start+1, dp))\n",
        "        dp[(pattern_start, string_start)] = tmp;\n",
        "        return tmp;\n",
        "    \n",
        "    # last case: if p[0] is a character\n",
        "    if  p[0] != s[0]:\n",
        "        dp[(pattern_start, string_start)] = False;\n",
        "        return False;\n",
        "    "
      ],
      "execution_count": null,
      "outputs": []
    },
    {
      "cell_type": "code",
      "metadata": {
        "id": "O-zymWke8gkY",
        "outputId": "c9604342-6453-4a0e-913f-741c0983a1e7"
      },
      "source": [
        "print(isMatchDP(\"*\",\"ab\",0,0, {}))"
      ],
      "execution_count": null,
      "outputs": [
        {
          "output_type": "stream",
          "text": [
            "* ab\n",
            "True\n"
          ],
          "name": "stdout"
        }
      ]
    },
    {
      "cell_type": "code",
      "metadata": {
        "id": "YsFouqvX8gkZ",
        "outputId": "601c3732-aea9-4b30-e5b9-0f6425edd93c"
      },
      "source": [
        "print(isMatchDP(\"?a\" ,\"baa\",0,0,{}))"
      ],
      "execution_count": null,
      "outputs": [
        {
          "output_type": "stream",
          "text": [
            "?a baa\n",
            "a aa\n",
            " a\n",
            "False\n"
          ],
          "name": "stdout"
        }
      ]
    },
    {
      "cell_type": "code",
      "metadata": {
        "id": "-On-DJFc8gkZ",
        "outputId": "d30f9c39-288b-43d8-d8ff-2555ce7813db"
      },
      "source": [
        "print(isMatchDP(\"?a*\" ,\"baa\",0,0,{}))"
      ],
      "execution_count": null,
      "outputs": [
        {
          "output_type": "stream",
          "text": [
            "?a* baa\n",
            "a* aa\n",
            "* a\n",
            "True\n"
          ],
          "name": "stdout"
        }
      ]
    },
    {
      "cell_type": "markdown",
      "metadata": {
        "id": "b-PfAKtg8gka"
      },
      "source": [
        "### 2 Dimensional Dynamic programming vs 1-Dimensional DP\n",
        "\n",
        "### Additional Resources:\n",
        "- https://www.geeksforgeeks.org/solve-dynamic-programming-problem/\n",
        "- 50 practice problems: https://blog.usejournal.com/top-50-dynamic-programming-practice-problems-4208fed71aa3\n"
      ]
    },
    {
      "cell_type": "markdown",
      "metadata": {
        "id": "IA6E-StC8gka"
      },
      "source": [
        "# Python's inbuilt data-structures: List, Dict, Set, Tuple \n",
        "- Assumption: basic understadning about these DS. \n",
        "- Big practical question: Where to use which DS?"
      ]
    },
    {
      "cell_type": "markdown",
      "metadata": {
        "id": "NuESuSbj8gka"
      },
      "source": [
        "### Key properties (recap): \n",
        "- LIST: [1,2,3,4,5], ordered, indexable, iterable\n",
        "\n",
        "- DICT:  {'jack': 4098, 'sape': 4139}, O(1) search, <k,v> pairs, iterable, ordered(3.7+)[https://docs.python.org/3/whatsnew/3.7.html]\n",
        "\n",
        "- TUPLE: (1,2,3), immutable, ordered-k-items, \n",
        "\n",
        "- SET: {1,2,3}, unordered, iterable, no-duplicates.\n",
        "\n",
        "\n",
        "\" A DS is decided based on what operations you want to perform on it and how fast these operations are\"\n"
      ]
    },
    {
      "cell_type": "markdown",
      "metadata": {
        "id": "2QRdurGx8gkb"
      },
      "source": [
        "### Lets learn: Which DS will you use in a given situation and why?\n"
      ]
    },
    {
      "cell_type": "markdown",
      "metadata": {
        "id": "PeBBG0Kh8gkc"
      },
      "source": [
        "### Q. Represent a 3-D point as a parameter to a function: f(3D-point)"
      ]
    },
    {
      "cell_type": "markdown",
      "metadata": {
        "id": "rh8BFzsT8gkc"
      },
      "source": [
        "#### Notice the shape parameter in NumPy\n",
        "\n",
        "class numpy.ndarray(shape, dtype=float, buffer=None, offset=0, strides=None, order=None)[source]\n",
        "An array object represents a multidimensional, homogeneous array of fixed-size items. An associated data-type object describes the format of each element in the array (its byte-order, how many bytes it occupies in memory, whether it is an integer, a floating point number, or something else, etc.)\n",
        "\n",
        "Arrays should be constructed using array, zeros or empty (refer to the See Also section below). The parameters given here refer to a low-level method (ndarray(…)) for instantiating an array.\n",
        "\n",
        "For more information, refer to the numpy module and examine the methods and attributes of an array.\n",
        "\n",
        "Parameters:\t\n",
        "(for the __new__ method; see Notes below)\n",
        "shape : tuple of ints\n",
        "Shape of created array.\n",
        "\n",
        "dtype : data-type, optional\n",
        "Any object that can be interpreted as a numpy data type.\n",
        "\n",
        "buffer : object exposing buffer interface, optional\n",
        "Used to fill the array with data.\n",
        "\n",
        "offset : int, optional\n",
        "Offset of array data in buffer."
      ]
    },
    {
      "cell_type": "markdown",
      "metadata": {
        "id": "ax5TM3kK8gkc"
      },
      "source": [
        "### Q. Represent a 3-D point as a parameter to a function: f(3D-point) which changes the 3-D point's co-ordinates"
      ]
    },
    {
      "cell_type": "code",
      "metadata": {
        "id": "rKEemord8gkd",
        "outputId": "5f50fab0-bb69-4ebd-e23e-0943f1d92f84"
      },
      "source": [
        "def f(t):\n",
        "    t[0] = t[0]+1;\n",
        "    t[1] = t[1]+1;\n",
        "    t[2] = t[2]+1;\n",
        "    return;\n",
        "\n",
        "t=(0,1,2);\n",
        "print(t);\n",
        "\n",
        "print(t[0])\n",
        "\n",
        "f(t);\n",
        "\n",
        "print(t)\n",
        "\n",
        "# tuples are immutable"
      ],
      "execution_count": null,
      "outputs": [
        {
          "output_type": "stream",
          "text": [
            "(0, 1, 2)\n",
            "0\n"
          ],
          "name": "stdout"
        },
        {
          "output_type": "error",
          "ename": "TypeError",
          "evalue": "'tuple' object does not support item assignment",
          "traceback": [
            "\u001b[0;31m---------------------------------------------------------------------------\u001b[0m",
            "\u001b[0;31mTypeError\u001b[0m                                 Traceback (most recent call last)",
            "\u001b[0;32m<ipython-input-179-be22e0c9180e>\u001b[0m in \u001b[0;36m<module>\u001b[0;34m\u001b[0m\n\u001b[1;32m     10\u001b[0m \u001b[0mprint\u001b[0m\u001b[0;34m(\u001b[0m\u001b[0mt\u001b[0m\u001b[0;34m[\u001b[0m\u001b[0;36m0\u001b[0m\u001b[0;34m]\u001b[0m\u001b[0;34m)\u001b[0m\u001b[0;34m\u001b[0m\u001b[0;34m\u001b[0m\u001b[0m\n\u001b[1;32m     11\u001b[0m \u001b[0;34m\u001b[0m\u001b[0m\n\u001b[0;32m---> 12\u001b[0;31m \u001b[0mf\u001b[0m\u001b[0;34m(\u001b[0m\u001b[0mt\u001b[0m\u001b[0;34m)\u001b[0m\u001b[0;34m;\u001b[0m\u001b[0;34m\u001b[0m\u001b[0;34m\u001b[0m\u001b[0m\n\u001b[0m\u001b[1;32m     13\u001b[0m \u001b[0;34m\u001b[0m\u001b[0m\n\u001b[1;32m     14\u001b[0m \u001b[0mprint\u001b[0m\u001b[0;34m(\u001b[0m\u001b[0mt\u001b[0m\u001b[0;34m)\u001b[0m\u001b[0;34m\u001b[0m\u001b[0;34m\u001b[0m\u001b[0m\n",
            "\u001b[0;32m<ipython-input-179-be22e0c9180e>\u001b[0m in \u001b[0;36mf\u001b[0;34m(t)\u001b[0m\n\u001b[1;32m      1\u001b[0m \u001b[0;32mdef\u001b[0m \u001b[0mf\u001b[0m\u001b[0;34m(\u001b[0m\u001b[0mt\u001b[0m\u001b[0;34m)\u001b[0m\u001b[0;34m:\u001b[0m\u001b[0;34m\u001b[0m\u001b[0;34m\u001b[0m\u001b[0m\n\u001b[0;32m----> 2\u001b[0;31m     \u001b[0mt\u001b[0m\u001b[0;34m[\u001b[0m\u001b[0;36m0\u001b[0m\u001b[0;34m]\u001b[0m \u001b[0;34m=\u001b[0m \u001b[0mt\u001b[0m\u001b[0;34m[\u001b[0m\u001b[0;36m0\u001b[0m\u001b[0;34m]\u001b[0m\u001b[0;34m+\u001b[0m\u001b[0;36m1\u001b[0m\u001b[0;34m;\u001b[0m\u001b[0;34m\u001b[0m\u001b[0;34m\u001b[0m\u001b[0m\n\u001b[0m\u001b[1;32m      3\u001b[0m     \u001b[0mt\u001b[0m\u001b[0;34m[\u001b[0m\u001b[0;36m1\u001b[0m\u001b[0;34m]\u001b[0m \u001b[0;34m=\u001b[0m \u001b[0mt\u001b[0m\u001b[0;34m[\u001b[0m\u001b[0;36m1\u001b[0m\u001b[0;34m]\u001b[0m\u001b[0;34m+\u001b[0m\u001b[0;36m1\u001b[0m\u001b[0;34m;\u001b[0m\u001b[0;34m\u001b[0m\u001b[0;34m\u001b[0m\u001b[0m\n\u001b[1;32m      4\u001b[0m     \u001b[0mt\u001b[0m\u001b[0;34m[\u001b[0m\u001b[0;36m2\u001b[0m\u001b[0;34m]\u001b[0m \u001b[0;34m=\u001b[0m \u001b[0mt\u001b[0m\u001b[0;34m[\u001b[0m\u001b[0;36m2\u001b[0m\u001b[0;34m]\u001b[0m\u001b[0;34m+\u001b[0m\u001b[0;36m1\u001b[0m\u001b[0;34m;\u001b[0m\u001b[0;34m\u001b[0m\u001b[0;34m\u001b[0m\u001b[0m\n\u001b[1;32m      5\u001b[0m     \u001b[0;32mreturn\u001b[0m\u001b[0;34m;\u001b[0m\u001b[0;34m\u001b[0m\u001b[0;34m\u001b[0m\u001b[0m\n",
            "\u001b[0;31mTypeError\u001b[0m: 'tuple' object does not support item assignment"
          ]
        }
      ]
    },
    {
      "cell_type": "code",
      "metadata": {
        "id": "lkykiyTY8gkd",
        "outputId": "242e2821-9c8a-4371-9489-61681757e9ae"
      },
      "source": [
        "# lists are mutable and ordered.\n",
        "\n",
        "def f(t):\n",
        "    t[0] = t[0]+1;\n",
        "    t[1] = t[1]+1;\n",
        "    t[2] = t[2]+1;\n",
        "    return;\n",
        "\n",
        "t=[0,1,2];\n",
        "print(t);\n",
        "\n",
        "print(t[0])\n",
        "\n",
        "f(t);\n",
        "\n",
        "print(t)"
      ],
      "execution_count": null,
      "outputs": [
        {
          "output_type": "stream",
          "text": [
            "[0, 1, 2]\n",
            "0\n",
            "[1, 2, 3]\n"
          ],
          "name": "stdout"
        }
      ]
    },
    {
      "cell_type": "markdown",
      "metadata": {
        "id": "8tWiBLvJ8gke"
      },
      "source": [
        "\n",
        "#### Example: Mutable and immutable & Parameter passing\n",
        "https://stackoverflow.com/a/986145"
      ]
    },
    {
      "cell_type": "markdown",
      "metadata": {
        "id": "drEoc6UV8gke"
      },
      "source": [
        "### Q. If you were to design NumPy from scratch, which inbuilt DS would you use to design ndarray?\n"
      ]
    },
    {
      "cell_type": "markdown",
      "metadata": {
        "id": "65fay_SO8gkf"
      },
      "source": [
        "### Q. How do you think data is internally stored in Numpy Arrays?"
      ]
    },
    {
      "cell_type": "markdown",
      "metadata": {
        "id": "mVW-Qxfh8gkf"
      },
      "source": [
        "\"Why are NumPy arrays efficient?\n",
        "\n",
        "A NumPy array is basically described by metadata (notably the number of dimensions, the shape, and the data type) and the actual data. The data is stored in a homogeneous and contiguous block of memory, at a particular address in system memory (Random Access Memory, or RAM). This block of memory is called the data buffer. This is the main difference between an array and a pure Python structure, such as a list, where the items are scattered across the system memory. This aspect is the critical feature that makes NumPy arrays so efficient.\"\n",
        "\n",
        "Source: https://ipython-books.github.io/45-understanding-the-internals-of-numpy-to-avoid-unnecessary-array-copying/"
      ]
    },
    {
      "cell_type": "markdown",
      "metadata": {
        "id": "c3AbwIyu8gkf"
      },
      "source": [
        "### Q. You want to write the program to obtain various combinations. How do you take the input?"
      ]
    },
    {
      "cell_type": "markdown",
      "metadata": {
        "id": "ykHVIpaW8gkf"
      },
      "source": [
        "Refer: https://docs.python.org/2/library/itertools.html#itertools.combinations\n",
        "        \n",
        "itertools.combinations(iterable, r)\n",
        "\n",
        "Return r length subsequences of elements from the input iterable.\n",
        "Combinations are emitted in lexicographic sort order. So, if the input iterable is sorted, the combination tuples will be produced in sorted order.\n",
        "Elements are treated as unique based on their position, not on their value. So if the input elements are unique, there will be no repeat values in each combination."
      ]
    },
    {
      "cell_type": "code",
      "metadata": {
        "id": "XxdSSDrZ8gkg",
        "outputId": "a7e40e49-2ef4-467c-aec5-f137b05c0771"
      },
      "source": [
        "import itertools\n",
        "\n",
        "res = itertools.combinations([1,2,3,4,5],2)\n",
        "\n",
        "print(type(res))\n"
      ],
      "execution_count": null,
      "outputs": [
        {
          "output_type": "stream",
          "text": [
            "<class 'itertools.combinations'>\n"
          ],
          "name": "stdout"
        }
      ]
    },
    {
      "cell_type": "markdown",
      "metadata": {
        "id": "8ChpKYhc8gkg"
      },
      "source": [
        "#### Q. How would you build a TinyURL service? [https://tinyurl.com/]\n",
        "- Popular interview question"
      ]
    },
    {
      "cell_type": "markdown",
      "metadata": {
        "id": "WDA6ugyA8gkg"
      },
      "source": [
        "Dict/Hashtable has <K,V> pairs\n",
        "\n",
        "Key = short-URL\n",
        "Value = Long-URL\n",
        "\n",
        "Key: random variable length alphabetic suffix [tinyurl.com/tgwxyc]\n"
      ]
    },
    {
      "cell_type": "code",
      "metadata": {
        "id": "P-CRqbjY8gkh"
      },
      "source": [
        "import random\n",
        "import string\n",
        "\n",
        "d = {};\n",
        "\n",
        "# given a long URL, get a short URL\n",
        "def getShortURL(longURL):\n",
        "    # length = random value in 6-10\n",
        "    l = random.randint(6,10);\n",
        "    print(l);\n",
        "    \n",
        "    # generate random characters into a string of length l\n",
        "    chars = string.ascii_lowercase\n",
        "    shortURL = ''.join(random.choice(chars) for i in range(l))\n",
        "    print(shortURL);\n",
        "    \n",
        "    # check if this string is already present in dict d\n",
        "    if shortURL in d:\n",
        "        return getShortURL(longURL);\n",
        "    else:\n",
        "        d[shortURL] = longURL;\n",
        "        \n",
        "    print(d)\n",
        "    r = \"https://www.shortURL.com/\"+shortURL\n",
        "    return r;\n",
        "\n"
      ],
      "execution_count": null,
      "outputs": []
    },
    {
      "cell_type": "code",
      "metadata": {
        "id": "qK065qV88gkh",
        "outputId": "f9d46bde-3468-4e0a-d61a-5fb1ccad3c4f"
      },
      "source": [
        "print(getShortURL(\"www.appliedaicourse.com\"))"
      ],
      "execution_count": null,
      "outputs": [
        {
          "output_type": "stream",
          "text": [
            "8\n",
            "iftgtrsu\n",
            "{'iftgtrsu': 'www.appliedaicourse.com'}\n",
            "https://www.shortURL.com/iftgtrsu\n"
          ],
          "name": "stdout"
        }
      ]
    },
    {
      "cell_type": "code",
      "metadata": {
        "id": "qgue_3Wc8gkh",
        "outputId": "455b017a-d74d-462c-e18d-7dc8a03879a7"
      },
      "source": [
        "print(getShortURL(\"www.appliedaicourse.com\"))"
      ],
      "execution_count": null,
      "outputs": [
        {
          "output_type": "stream",
          "text": [
            "7\n",
            "mxzmuis\n",
            "{'iftgtrsu': 'www.appliedaicourse.com', 'mxzmuis': 'www.appliedaicourse.com'}\n",
            "https://www.shortURL.com/mxzmuis\n"
          ],
          "name": "stdout"
        }
      ]
    },
    {
      "cell_type": "code",
      "metadata": {
        "id": "lH88Z9_s8gki"
      },
      "source": [
        "def getLongURL(shortURL):\n",
        "    \n",
        "    # extarct key from URL https://www.shortURL.com/mxzmuis ---> mxzmuis\n",
        "    k = shortURL[25:];\n",
        "    print(k)\n",
        "    \n",
        "    return d[k];\n"
      ],
      "execution_count": null,
      "outputs": []
    },
    {
      "cell_type": "code",
      "metadata": {
        "id": "OVloopQQ8gki",
        "outputId": "79896f5c-825c-43e3-ea87-942491e3482a"
      },
      "source": [
        "print(getLongURL(\"https://www.shortURL.com/mxzmuis\"))\n"
      ],
      "execution_count": null,
      "outputs": [
        {
          "output_type": "stream",
          "text": [
            "mxzmuis\n",
            "www.appliedaicourse.com\n"
          ],
          "name": "stdout"
        }
      ]
    },
    {
      "cell_type": "code",
      "metadata": {
        "id": "IW4TRiZ68gki",
        "outputId": "37e0e8ae-5289-476a-eb79-772862ff6c86"
      },
      "source": [
        "print(getLongURL(\"https://www.shortURL.com/abcdef\"))"
      ],
      "execution_count": null,
      "outputs": [
        {
          "output_type": "stream",
          "text": [
            "abcdef\n"
          ],
          "name": "stdout"
        },
        {
          "output_type": "error",
          "ename": "KeyError",
          "evalue": "'abcdef'",
          "traceback": [
            "\u001b[0;31m---------------------------------------------------------------------------\u001b[0m",
            "\u001b[0;31mKeyError\u001b[0m                                  Traceback (most recent call last)",
            "\u001b[0;32m<ipython-input-193-a1641eeac07b>\u001b[0m in \u001b[0;36m<module>\u001b[0;34m\u001b[0m\n\u001b[0;32m----> 1\u001b[0;31m \u001b[0mprint\u001b[0m\u001b[0;34m(\u001b[0m\u001b[0mgetLongURL\u001b[0m\u001b[0;34m(\u001b[0m\u001b[0;34m\"https://www.shortURL.com/abcdef\"\u001b[0m\u001b[0;34m)\u001b[0m\u001b[0;34m)\u001b[0m\u001b[0;34m\u001b[0m\u001b[0;34m\u001b[0m\u001b[0m\n\u001b[0m",
            "\u001b[0;32m<ipython-input-191-049da4c13feb>\u001b[0m in \u001b[0;36mgetLongURL\u001b[0;34m(shortURL)\u001b[0m\n\u001b[1;32m      5\u001b[0m     \u001b[0mprint\u001b[0m\u001b[0;34m(\u001b[0m\u001b[0mk\u001b[0m\u001b[0;34m)\u001b[0m\u001b[0;34m\u001b[0m\u001b[0;34m\u001b[0m\u001b[0m\n\u001b[1;32m      6\u001b[0m \u001b[0;34m\u001b[0m\u001b[0m\n\u001b[0;32m----> 7\u001b[0;31m     \u001b[0;32mreturn\u001b[0m \u001b[0md\u001b[0m\u001b[0;34m[\u001b[0m\u001b[0mk\u001b[0m\u001b[0;34m]\u001b[0m\u001b[0;34m;\u001b[0m\u001b[0;34m\u001b[0m\u001b[0;34m\u001b[0m\u001b[0m\n\u001b[0m",
            "\u001b[0;31mKeyError\u001b[0m: 'abcdef'"
          ]
        }
      ]
    },
    {
      "cell_type": "code",
      "metadata": {
        "id": "Md-A-VBX8gkj"
      },
      "source": [
        "# Handle Errors and return None\n",
        "\n",
        "def getLongURL(shortURL):\n",
        "    \n",
        "    # extarct key from URL https://www.shortURL.com/mxzmuis ---> mxzmuis\n",
        "    k = shortURL[25:];\n",
        "    print(k)\n",
        "    \n",
        "    if k in d:\n",
        "        return d[k];\n",
        "    else:\n",
        "        return None;"
      ],
      "execution_count": null,
      "outputs": []
    },
    {
      "cell_type": "code",
      "metadata": {
        "id": "Y9ht2aq48gkk",
        "outputId": "51255ad8-0604-4195-b2cf-82af84ff7e3c"
      },
      "source": [
        "print(getLongURL(\"https://www.shortURL.com/abcdef\"))"
      ],
      "execution_count": null,
      "outputs": [
        {
          "output_type": "stream",
          "text": [
            "abcdef\n",
            "None\n"
          ],
          "name": "stdout"
        }
      ]
    },
    {
      "cell_type": "code",
      "metadata": {
        "id": "1oRyql1a8gkl",
        "outputId": "65ce11a0-9e29-443e-f544-cd53f7bb5988"
      },
      "source": [
        "print(getLongURL(\"https://www.shortURL.com/mxzmuis\"))\n"
      ],
      "execution_count": null,
      "outputs": [
        {
          "output_type": "stream",
          "text": [
            "mxzmuis\n",
            "www.appliedaicourse.com\n"
          ],
          "name": "stdout"
        }
      ]
    },
    {
      "cell_type": "markdown",
      "metadata": {
        "id": "s8HU4O4f8gkl"
      },
      "source": [
        "#### IDEA: We have dict 'd' and these two functions(getShortURL, getLongURL ) that opearete on 'd'. Why not put all these three in a single logical block?\n",
        "- That's where \"Classes\" come in!  Next session: Basics of OOP in Python (for ML)\n",
        "- We will build a ShortURL class."
      ]
    },
    {
      "cell_type": "markdown",
      "metadata": {
        "id": "tNXm_3pg8gkm"
      },
      "source": [
        "### Q. Find common elements in 3 lists\n",
        "l1 = [1,2,3,4] <br>\n",
        "l2 = [3,4,5] <br>\n",
        "l3 = [1,4,6,7,8]\n",
        "\n",
        "result = [4]\n"
      ]
    },
    {
      "cell_type": "code",
      "metadata": {
        "id": "a7piti7Y8gkm",
        "outputId": "c7a6d1f2-4789-47c3-cec0-8732e6fb611d"
      },
      "source": [
        "\n",
        "l1 = [1,2,3,4]\n",
        "l2 = [3,4,5]\n",
        "l3 = [1,4,6,7,8]\n",
        "\n",
        "s1 = set(l1);\n",
        "s2 = set(l2);\n",
        "s3 =set(l3);\n",
        "\n",
        "result = list((s1.intersection(s2)).intersection(s3))\n",
        "\n",
        "print(result)\n",
        "\n",
        "# Simple application of Sets"
      ],
      "execution_count": null,
      "outputs": [
        {
          "output_type": "stream",
          "text": [
            "[4]\n"
          ],
          "name": "stdout"
        }
      ]
    },
    {
      "cell_type": "markdown",
      "metadata": {
        "id": "f6NOxKe38gkn"
      },
      "source": [
        "### Exercise: Find all documents which contain search keywords and phrases."
      ]
    },
    {
      "cell_type": "code",
      "metadata": {
        "id": "oskSj9vl8gkn"
      },
      "source": [
        ""
      ],
      "execution_count": null,
      "outputs": []
    }
  ]
}