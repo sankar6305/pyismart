{
  "nbformat": 4,
  "nbformat_minor": 0,
  "metadata": {
    "celltoolbar": "Slideshow",
    "kernelspec": {
      "display_name": "Python 3",
      "language": "python",
      "name": "python3"
    },
    "language_info": {
      "codemirror_mode": {
        "name": "ipython",
        "version": 3
      },
      "file_extension": ".py",
      "mimetype": "text/x-python",
      "name": "python",
      "nbconvert_exporter": "python",
      "pygments_lexer": "ipython3",
      "version": "3.7.3"
    },
    "colab": {
      "name": "LIVE_OOP_Basics_II.ipynb",
      "provenance": [],
      "include_colab_link": true
    }
  },
  "cells": [
    {
      "cell_type": "markdown",
      "metadata": {
        "id": "view-in-github",
        "colab_type": "text"
      },
      "source": [
        "<a href=\"https://colab.research.google.com/github/sankar6305/pyismart/blob/main/modele1/live%20sessons/LIVE_OOP_Basics_II.ipynb\" target=\"_parent\"><img src=\"https://colab.research.google.com/assets/colab-badge.svg\" alt=\"Open In Colab\"/></a>"
      ]
    },
    {
      "cell_type": "markdown",
      "metadata": {
        "id": "_K6psfoU9tKH"
      },
      "source": [
        "# OOP- II\n",
        "- Multiple-inheritence, Polymorphism, iterator-objects\n",
        "- Will answer a key questions from yesterday's live chat window. \n",
        "- Will cover a few good ideas like dir() that others suggested in the chat window yesterday.\n",
        "\n",
        "Pre-requisites: previous live-sessions in this series."
      ]
    },
    {
      "cell_type": "markdown",
      "metadata": {
        "id": "s9F2LyCc9tKL"
      },
      "source": [
        "### How is OOP typically used in an ML role:\n",
        "- Using existing Classes.\n",
        "- Reading documentation to understand how to use a fucntion/class/module.\n",
        "- Fixing code bugs and understanding error messages.\n",
        "- Extending existing classes to modify some fucntionality in an existing class\n",
        "- Working with Software enigneers to build some ML classes for them to use in the larger software.\n",
        "- Do not perform OOD without understanding it well. Typically done by senior engineers/architects. A good beginner's book: https://learning.oreilly.com/library/view/head-first-design/0596007124/"
      ]
    },
    {
      "cell_type": "markdown",
      "metadata": {
        "id": "KDFwH5ae9tKM"
      },
      "source": [
        "### Multiple-inheritence\n",
        "\n",
        "https://docs.python.org/3/tutorial/classes.html#multiple-inheritance\n",
        "\n",
        "class DerivedClassName(Base1, Base2, Base3):\n",
        "    <br>....\n",
        "    <br>....\n",
        "    \n"
      ]
    },
    {
      "cell_type": "code",
      "metadata": {
        "id": "MrYQhRAb9tKM",
        "outputId": "258bbe1c-8672-4f96-8abd-0890059f886b"
      },
      "source": [
        "# toy-example: Modifications on https://overiq.com/python-101/inheritance-and-polymorphism-in-python/\n",
        "\n",
        "class A:\n",
        "    def explore(self):\n",
        "        print(\"explore in A  called\")\n",
        "class B:\n",
        "    def search(self):\n",
        "        print(\"search in B  called\")\n",
        "\n",
        "    def explore(self):\n",
        "        print(\"explore in B called\")\n",
        "\n",
        "class C:\n",
        "    def discover(self):\n",
        "        print(\"discover() in C  called\")\n",
        "\n",
        "class D(A, B, C): # multiple inheritence\n",
        "    def test(self):\n",
        "        print(\"test() in D called\")\n",
        " \n",
        " \n",
        "d_obj = D()\n",
        "d_obj.explore()\n",
        "d_obj.search()\n",
        "d_obj.discover()\n",
        "d_obj.test()"
      ],
      "execution_count": null,
      "outputs": [
        {
          "output_type": "stream",
          "text": [
            "explore in A  called\n",
            "search in B  called\n",
            "discover() in C  called\n",
            "test() in D called\n"
          ],
          "name": "stdout"
        }
      ]
    },
    {
      "cell_type": "code",
      "metadata": {
        "id": "Ar80acdN9tKP",
        "outputId": "bcccc0df-c981-4f18-a200-62892f8ef5c8"
      },
      "source": [
        "# toy-example: Diamond inheritence a.k.a. Deadly dimaond\n",
        "\n",
        "class A:\n",
        "    def explore(self):\n",
        "        print(\"explore in A  called\")\n",
        "\n",
        "class B(A):\n",
        "\n",
        "    def explore(self):\n",
        "        print(\"explore in B called\")\n",
        "\n",
        "class C(A):\n",
        "    def explore(self):\n",
        "        print(\"explore in C  called\")\n",
        "\n",
        "class D(B, C): # multiple inheritence\n",
        "    pass;\n",
        " \n",
        "\n",
        "d_obj = D()\n",
        "d_obj.explore()\n"
      ],
      "execution_count": null,
      "outputs": [
        {
          "output_type": "stream",
          "text": [
            "explore in B called\n"
          ],
          "name": "stdout"
        }
      ]
    },
    {
      "cell_type": "markdown",
      "metadata": {
        "id": "pPzDxYAm9tKR"
      },
      "source": [
        "### Polymorphism\n",
        "- Different forms\n",
        "- Operator level Polymorphism: 2+3, \"abc\" + \"def\"\n",
        "- Function level Polymorphism: len([1,2,3]), len (\"abcdef\"), len({1,2,3,4})\n",
        "- Class level Polymorphism"
      ]
    },
    {
      "cell_type": "code",
      "metadata": {
        "id": "ENttKXcq9tKS",
        "outputId": "081fb37c-aa81-449a-ba75-83f5da0e2b27"
      },
      "source": [
        "print(len([1,2,3]));\n",
        "print(len(\"abcdef\"))\n",
        "print(len({1,2,3,4}))"
      ],
      "execution_count": null,
      "outputs": [
        {
          "output_type": "stream",
          "text": [
            "3\n",
            "6\n",
            "4\n"
          ],
          "name": "stdout"
        }
      ]
    },
    {
      "cell_type": "code",
      "metadata": {
        "id": "zTsZ28c29tKT",
        "outputId": "d2079d7e-02b1-4913-b647-9740e47774b6"
      },
      "source": [
        "#class level Polymorphism\n",
        "\n",
        "class A:\n",
        "    def p(self):\n",
        "        return \"function p in A\"\n",
        "\n",
        "class B:\n",
        "    def p(self):\n",
        "        return \"function p in B\"\n",
        "    \n",
        "\n",
        "a = A();\n",
        "b = B();\n",
        "\n",
        "for i in (a,b):\n",
        "    print(i.p()) # the function that runs depends on the object type making this code much more elegant and crisp\n",
        "\n",
        "print(\"##########################\")\n",
        "\n",
        "x=a;\n",
        "print(x.p());\n",
        "\n",
        "x=b;\n",
        "print(x.p());"
      ],
      "execution_count": null,
      "outputs": [
        {
          "output_type": "stream",
          "text": [
            "function p in A\n",
            "function p in B\n",
            "##########################\n",
            "function p in A\n",
            "function p in B\n"
          ],
          "name": "stdout"
        }
      ]
    },
    {
      "cell_type": "code",
      "metadata": {
        "id": "UYaFFt_X9tKU",
        "outputId": "9520597b-eb53-4bbe-cd02-04b7c28f45a9"
      },
      "source": [
        "# Polymorphism + Inheritence\n",
        "\n",
        "# example seen earlier: [Source: https://overiq.com/python-101/inheritance-and-polymorphism-in-python/]\n",
        "import math\n",
        " \n",
        "class Shape:\n",
        " \n",
        "    def __init__(self, color='black', filled=False):\n",
        "        self.__color = color\n",
        "        self.__filled = filled\n",
        " \n",
        "    def get_color(self):\n",
        "        return self.__color\n",
        " \n",
        "    def set_color(self, color):\n",
        "        self.__color = color\n",
        " \n",
        "    def get_filled(self):\n",
        "        return self.__filled\n",
        " \n",
        "    def set_filled(self, filled):\n",
        "        self.__filled = filled\n",
        " \n",
        " \n",
        "class Rectangle(Shape):\n",
        " \n",
        "    def __init__(self, length, breadth):\n",
        "        super().__init__()\n",
        "        self.__length = length\n",
        "        self.__breadth = breadth\n",
        " \n",
        "    def get_length(self):\n",
        "        return self.__length\n",
        " \n",
        "    def set_length(self, length):\n",
        "        self.__length = length\n",
        " \n",
        "    def get_breadth(self):\n",
        "        return self.__breadth\n",
        " \n",
        "    def set_breadth(self, breadth):\n",
        "        self.__breadth = breadth\n",
        " \n",
        "    def get_area(self):\n",
        "        return self.__length * self.__breadth\n",
        " \n",
        "    def get_perimeter(self):\n",
        "        return 2 * (self.__length + self.__breadth)\n",
        " \n",
        " \n",
        "class Circle(Shape):\n",
        "    def __init__(self, radius):\n",
        "        super().__init__()\n",
        "        self.__radius = radius\n",
        " \n",
        "    def get_radius(self):\n",
        "        return self.__radius\n",
        " \n",
        "    def set_radius(self, radius):\n",
        "        self.__radius = radius\n",
        " \n",
        "    def get_area(self):\n",
        "        return math.pi * self.__radius ** 2\n",
        " \n",
        "    def get_perimeter(self):\n",
        "        return 2 * math.pi * self.__radius\n",
        "\n",
        "s = Shape();\n",
        "r = Rectangle(10,20);\n",
        "c = Circle(2);\n",
        "\n",
        "for i in (s, r,c):\n",
        "    print(i.get_color())\n",
        "    \n",
        "for i in (r,c):\n",
        "    print(i.get_area())"
      ],
      "execution_count": null,
      "outputs": [
        {
          "output_type": "stream",
          "text": [
            "black\n",
            "black\n",
            "black\n",
            "200\n",
            "12.566370614359172\n"
          ],
          "name": "stdout"
        }
      ]
    },
    {
      "cell_type": "code",
      "metadata": {
        "id": "RQhKskOA9tKV",
        "outputId": "64aab17f-8fc1-493e-c6c0-0d77663ce256"
      },
      "source": [
        "# Polymorphism + Inheritence [inbuilt-DS]\n",
        "\n",
        "d = {'a':1, 'b':2}\n",
        "l = [1,2,3,4]\n",
        "s = {1,2,3,4}\n",
        "\n",
        "for i in (d,l,s):\n",
        "    print(i) # polymorphism + inheritence [__str__ from object]\n"
      ],
      "execution_count": null,
      "outputs": [
        {
          "output_type": "stream",
          "text": [
            "{'a': 1, 'b': 2}\n",
            "[1, 2, 3, 4]\n",
            "{1, 2, 3, 4}\n"
          ],
          "name": "stdout"
        }
      ]
    },
    {
      "cell_type": "markdown",
      "metadata": {
        "id": "hIqUIXqa9tKV"
      },
      "source": [
        "### Iterable objects"
      ]
    },
    {
      "cell_type": "code",
      "metadata": {
        "id": "PFwi5T7d9tKW",
        "outputId": "e3d5ae4d-c2cd-441d-b569-7d57247475fc"
      },
      "source": [
        "### Iteratable objects in Python\n",
        "for i in [1,2,3,4]:\n",
        "    print(i)"
      ],
      "execution_count": null,
      "outputs": [
        {
          "output_type": "stream",
          "text": [
            "1\n",
            "2\n",
            "3\n",
            "4\n"
          ],
          "name": "stdout"
        }
      ]
    },
    {
      "cell_type": "code",
      "metadata": {
        "id": "G9azD_PQ9tKX"
      },
      "source": [
        "# How to make objects of a class iteratable?\n",
        "# Source: https://docs.python.org/3/tutorial/classes.html#iterators\n",
        "\n",
        "class Reverse:\n",
        "    \"\"\"Iterator for looping over a sequence backwards.\"\"\"\n",
        "    def __init__(self, data): # data can be list or tuple or string\n",
        "        self.data = data\n",
        "        self.index = len(data)\n",
        "\n",
        "    def __iter__(self):\n",
        "        return self\n",
        "\n",
        "    def __next__(self):\n",
        "        if self.index == 0:\n",
        "            raise StopIteration\n",
        "        self.index = self.index - 1\n",
        "        return self.data[self.index]"
      ],
      "execution_count": null,
      "outputs": []
    },
    {
      "cell_type": "code",
      "metadata": {
        "id": "ZV99ahCz9tKX",
        "outputId": "1e2e95e4-9db9-4be7-8e3b-dc652b71b80e"
      },
      "source": [
        "r = Reverse([1,2,3,4]);\n",
        "for i in r:\n",
        "    print(i)"
      ],
      "execution_count": null,
      "outputs": [
        {
          "output_type": "stream",
          "text": [
            "4\n",
            "3\n",
            "2\n",
            "1\n"
          ],
          "name": "stdout"
        }
      ]
    },
    {
      "cell_type": "code",
      "metadata": {
        "id": "qyw64kl-9tKY",
        "outputId": "45dd9d2c-9b69-4f45-ff1b-a3620a20a385"
      },
      "source": [
        "r = Reverse((1,2,3,4,5));\n",
        "for i in r:\n",
        "    print(i)"
      ],
      "execution_count": null,
      "outputs": [
        {
          "output_type": "stream",
          "text": [
            "5\n",
            "4\n",
            "3\n",
            "2\n",
            "1\n"
          ],
          "name": "stdout"
        }
      ]
    },
    {
      "cell_type": "code",
      "metadata": {
        "id": "9-xLbCZH9tKZ",
        "outputId": "5b2f5305-69af-476d-bb74-ec874138fdc7"
      },
      "source": [
        "r = Reverse(\"abcdef\");\n",
        "for i in r:\n",
        "    print(i)http://localhost:8888/notebooks/CodeWalkthroughSessions/LIVE_OOP_Basics_II.ipynb#"
      ],
      "execution_count": null,
      "outputs": [
        {
          "output_type": "stream",
          "text": [
            "f\n",
            "e\n",
            "d\n",
            "c\n",
            "b\n",
            "a\n"
          ],
          "name": "stdout"
        }
      ]
    },
    {
      "cell_type": "code",
      "metadata": {
        "id": "oZLDJNOY9tKZ",
        "outputId": "9579c3e1-bcb9-494c-8468-000d16ccc961"
      },
      "source": [
        "r = Reverse({1,2,3,4,5});\n",
        "for i in r:\n",
        "    print(i)"
      ],
      "execution_count": null,
      "outputs": [
        {
          "output_type": "error",
          "ename": "TypeError",
          "evalue": "'set' object is not subscriptable",
          "traceback": [
            "\u001b[0;31m---------------------------------------------------------------------------\u001b[0m",
            "\u001b[0;31mTypeError\u001b[0m                                 Traceback (most recent call last)",
            "\u001b[0;32m<ipython-input-149-28ae62154c2b>\u001b[0m in \u001b[0;36m<module>\u001b[0;34m\u001b[0m\n\u001b[1;32m      1\u001b[0m \u001b[0mr\u001b[0m \u001b[0;34m=\u001b[0m \u001b[0mReverse\u001b[0m\u001b[0;34m(\u001b[0m\u001b[0;34m{\u001b[0m\u001b[0;36m1\u001b[0m\u001b[0;34m,\u001b[0m\u001b[0;36m2\u001b[0m\u001b[0;34m,\u001b[0m\u001b[0;36m3\u001b[0m\u001b[0;34m,\u001b[0m\u001b[0;36m4\u001b[0m\u001b[0;34m,\u001b[0m\u001b[0;36m5\u001b[0m\u001b[0;34m}\u001b[0m\u001b[0;34m)\u001b[0m\u001b[0;34m;\u001b[0m\u001b[0;34m\u001b[0m\u001b[0;34m\u001b[0m\u001b[0m\n\u001b[0;32m----> 2\u001b[0;31m \u001b[0;32mfor\u001b[0m \u001b[0mi\u001b[0m \u001b[0;32min\u001b[0m \u001b[0mr\u001b[0m\u001b[0;34m:\u001b[0m\u001b[0;34m\u001b[0m\u001b[0;34m\u001b[0m\u001b[0m\n\u001b[0m\u001b[1;32m      3\u001b[0m     \u001b[0mprint\u001b[0m\u001b[0;34m(\u001b[0m\u001b[0mi\u001b[0m\u001b[0;34m)\u001b[0m\u001b[0;34m\u001b[0m\u001b[0;34m\u001b[0m\u001b[0m\n",
            "\u001b[0;32m<ipython-input-145-f14c16d18755>\u001b[0m in \u001b[0;36m__next__\u001b[0;34m(self)\u001b[0m\n\u001b[1;32m     15\u001b[0m             \u001b[0;32mraise\u001b[0m \u001b[0mStopIteration\u001b[0m\u001b[0;34m\u001b[0m\u001b[0;34m\u001b[0m\u001b[0m\n\u001b[1;32m     16\u001b[0m         \u001b[0mself\u001b[0m\u001b[0;34m.\u001b[0m\u001b[0mindex\u001b[0m \u001b[0;34m=\u001b[0m \u001b[0mself\u001b[0m\u001b[0;34m.\u001b[0m\u001b[0mindex\u001b[0m \u001b[0;34m-\u001b[0m \u001b[0;36m1\u001b[0m\u001b[0;34m\u001b[0m\u001b[0;34m\u001b[0m\u001b[0m\n\u001b[0;32m---> 17\u001b[0;31m         \u001b[0;32mreturn\u001b[0m \u001b[0mself\u001b[0m\u001b[0;34m.\u001b[0m\u001b[0mdata\u001b[0m\u001b[0;34m[\u001b[0m\u001b[0mself\u001b[0m\u001b[0;34m.\u001b[0m\u001b[0mindex\u001b[0m\u001b[0;34m]\u001b[0m\u001b[0;34m\u001b[0m\u001b[0;34m\u001b[0m\u001b[0m\n\u001b[0m",
            "\u001b[0;31mTypeError\u001b[0m: 'set' object is not subscriptable"
          ]
        }
      ]
    },
    {
      "cell_type": "markdown",
      "metadata": {
        "id": "f79ZNcQE9tKb"
      },
      "source": [
        "### Few questions from Yesterday's live session in the chat window"
      ]
    },
    {
      "cell_type": "code",
      "metadata": {
        "id": "fOQSNSSm9tKc",
        "outputId": "09e1c8e0-addd-4cac-877e-519263e1b68a"
      },
      "source": [
        "# Empty classes as a structure.\n",
        "\n",
        "class E:\n",
        "    pass\n",
        "\n",
        "e1 = E();\n",
        "e1.name=\"abc\" # name and no attributes for e1\n",
        "e1.no = 123\n",
        "\n",
        "\n",
        "e2 = E(); # name and addr attrib for e2\n",
        "e2.name = \"xyz\"\n",
        "e2.addr = \"abcdefghijklmnop\"\n",
        "\n",
        "\n",
        "print(e1.name, e1.no)\n",
        "print(e2.name, e2.addr)"
      ],
      "execution_count": null,
      "outputs": [
        {
          "output_type": "stream",
          "text": [
            "abc 123\n",
            "xyz abcdefghijklmnop\n"
          ],
          "name": "stdout"
        }
      ]
    },
    {
      "cell_type": "code",
      "metadata": {
        "id": "fzE0n0o09tKc",
        "outputId": "44ffc9f8-ceaf-4d7f-d7be-6fb8227aacd3"
      },
      "source": [
        "# function within __init__\n",
        "class A:\n",
        "    def __init__(self):\n",
        "        \n",
        "        def function_within(x):\n",
        "            return x+1\n",
        "        \n",
        "        i =10;\n",
        "        print(function_within(i))\n",
        "        \n",
        "\n",
        "a = A();"
      ],
      "execution_count": null,
      "outputs": [
        {
          "output_type": "stream",
          "text": [
            "11\n"
          ],
          "name": "stdout"
        }
      ]
    },
    {
      "cell_type": "code",
      "metadata": {
        "id": "rnTOA15z9tKd",
        "outputId": "39d36c35-70b8-4311-84b3-59855b7b4394"
      },
      "source": [
        "# dir() is a powerful inbuilt function in Python3, \n",
        "# which returns list of the attributes and methods of any object\n",
        "# like classes , modules, strings, lists, dictionaries etc.\n",
        "\n",
        "import math\n",
        "print(dir(math)) # module\n",
        "\n"
      ],
      "execution_count": null,
      "outputs": [
        {
          "output_type": "stream",
          "text": [
            "['__doc__', '__file__', '__loader__', '__name__', '__package__', '__spec__', 'acos', 'acosh', 'asin', 'asinh', 'atan', 'atan2', 'atanh', 'ceil', 'copysign', 'cos', 'cosh', 'degrees', 'e', 'erf', 'erfc', 'exp', 'expm1', 'fabs', 'factorial', 'floor', 'fmod', 'frexp', 'fsum', 'gamma', 'gcd', 'hypot', 'inf', 'isclose', 'isfinite', 'isinf', 'isnan', 'ldexp', 'lgamma', 'log', 'log10', 'log1p', 'log2', 'modf', 'nan', 'pi', 'pow', 'radians', 'remainder', 'sin', 'sinh', 'sqrt', 'tan', 'tanh', 'tau', 'trunc']\n"
          ],
          "name": "stdout"
        }
      ]
    },
    {
      "cell_type": "code",
      "metadata": {
        "id": "9tgTEWrN9tKe",
        "outputId": "7926f4b9-734a-48b2-a0f8-0bb6ff41dfb7"
      },
      "source": [
        "class B:\n",
        "    def f():\n",
        "        print(\"Hi\");\n",
        "\n",
        "print(dir(B))"
      ],
      "execution_count": null,
      "outputs": [
        {
          "output_type": "stream",
          "text": [
            "['__class__', '__delattr__', '__dict__', '__dir__', '__doc__', '__eq__', '__format__', '__ge__', '__getattribute__', '__gt__', '__hash__', '__init__', '__init_subclass__', '__le__', '__lt__', '__module__', '__ne__', '__new__', '__reduce__', '__reduce_ex__', '__repr__', '__setattr__', '__sizeof__', '__str__', '__subclasshook__', '__weakref__', 'f']\n"
          ],
          "name": "stdout"
        }
      ]
    },
    {
      "cell_type": "code",
      "metadata": {
        "id": "TntZCgC59tKe",
        "outputId": "3d08e16b-b9f9-4fec-87d9-64757d092e74"
      },
      "source": [
        "# use tab to autofill, differs from one IDE to another.\n",
        "print(math.pi)"
      ],
      "execution_count": null,
      "outputs": [
        {
          "output_type": "stream",
          "text": [
            "3.141592653589793\n"
          ],
          "name": "stdout"
        }
      ]
    },
    {
      "cell_type": "code",
      "metadata": {
        "id": "tRGZ85WN9tKf",
        "outputId": "e15ca2f8-d54b-49b9-be62-e30feea9a2a2"
      },
      "source": [
        "import sys\n",
        "print(sys.version)"
      ],
      "execution_count": null,
      "outputs": [
        {
          "output_type": "stream",
          "text": [
            "3.7.3 (default, Mar 27 2019, 09:23:15) \n",
            "[Clang 10.0.1 (clang-1001.0.46.3)]\n"
          ],
          "name": "stdout"
        }
      ]
    },
    {
      "cell_type": "code",
      "metadata": {
        "id": "x5YdvSql9tKg",
        "outputId": "15d055d0-d540-4878-8f4a-1377fa332101"
      },
      "source": [
        "# private methods are just like private attributes that we saw earlier \"__function()\"\n",
        "\n",
        "class C:\n",
        "    def __pr(self, i):\n",
        "        return 2**i;\n",
        "    \n",
        "    def pu(self, x):\n",
        "        return self.__pr(x)+1;\n",
        "\n",
        "c = C();\n",
        "\n",
        "print(c.pu(4))\n",
        "\n",
        "print(c.__pr(4))\n",
        "    "
      ],
      "execution_count": null,
      "outputs": [
        {
          "output_type": "stream",
          "text": [
            "17\n"
          ],
          "name": "stdout"
        },
        {
          "output_type": "error",
          "ename": "AttributeError",
          "evalue": "'C' object has no attribute '__pr'",
          "traceback": [
            "\u001b[0;31m---------------------------------------------------------------------------\u001b[0m",
            "\u001b[0;31mAttributeError\u001b[0m                            Traceback (most recent call last)",
            "\u001b[0;32m<ipython-input-71-070461f56116>\u001b[0m in \u001b[0;36m<module>\u001b[0;34m\u001b[0m\n\u001b[1;32m     12\u001b[0m \u001b[0mprint\u001b[0m\u001b[0;34m(\u001b[0m\u001b[0mc\u001b[0m\u001b[0;34m.\u001b[0m\u001b[0mpu\u001b[0m\u001b[0;34m(\u001b[0m\u001b[0;36m4\u001b[0m\u001b[0;34m)\u001b[0m\u001b[0;34m)\u001b[0m\u001b[0;34m\u001b[0m\u001b[0;34m\u001b[0m\u001b[0m\n\u001b[1;32m     13\u001b[0m \u001b[0;34m\u001b[0m\u001b[0m\n\u001b[0;32m---> 14\u001b[0;31m \u001b[0mprint\u001b[0m\u001b[0;34m(\u001b[0m\u001b[0mc\u001b[0m\u001b[0;34m.\u001b[0m\u001b[0m__pr\u001b[0m\u001b[0;34m(\u001b[0m\u001b[0;36m4\u001b[0m\u001b[0;34m)\u001b[0m\u001b[0;34m)\u001b[0m\u001b[0;34m\u001b[0m\u001b[0;34m\u001b[0m\u001b[0m\n\u001b[0m\u001b[1;32m     15\u001b[0m \u001b[0;34m\u001b[0m\u001b[0m\n",
            "\u001b[0;31mAttributeError\u001b[0m: 'C' object has no attribute '__pr'"
          ]
        }
      ]
    },
    {
      "cell_type": "code",
      "metadata": {
        "id": "E-lip63Z9tKi",
        "outputId": "6a837971-0d36-4ae8-dd3e-c5bdcd5f9c42"
      },
      "source": [
        "print(dir(C))"
      ],
      "execution_count": null,
      "outputs": [
        {
          "output_type": "stream",
          "text": [
            "['_C__pr', '__class__', '__delattr__', '__dict__', '__dir__', '__doc__', '__eq__', '__format__', '__ge__', '__getattribute__', '__gt__', '__hash__', '__init__', '__init_subclass__', '__le__', '__lt__', '__module__', '__ne__', '__new__', '__reduce__', '__reduce_ex__', '__repr__', '__setattr__', '__sizeof__', '__str__', '__subclasshook__', '__weakref__', 'pu']\n"
          ],
          "name": "stdout"
        }
      ]
    },
    {
      "cell_type": "code",
      "metadata": {
        "id": "wJYOD9229tKk",
        "outputId": "0bbeda51-17e7-4254-a649-6152082a4396"
      },
      "source": [
        "print(c._C__pr(4))"
      ],
      "execution_count": null,
      "outputs": [
        {
          "output_type": "stream",
          "text": [
            "16\n"
          ],
          "name": "stdout"
        }
      ]
    },
    {
      "cell_type": "code",
      "metadata": {
        "id": "bJ-vLDnY9tKk",
        "outputId": "7c77d0f7-1110-4fc8-800e-72918623139c"
      },
      "source": [
        "# Inheritence of private members\n",
        "# C++ has public, private, protected [accessible in all sub-classes but not outside the class]\n",
        "\n",
        "class C:\n",
        "    def __pr(self, i): # private due to TWO underscores, implementation dependent, suggested \n",
        "        return 2**i;\n",
        "    \n",
        "    def pu(self, x):\n",
        "        return self.__pr(x)+1;\n",
        "\n",
        "print(dir(C))\n",
        "print(\"\\n\\n***************************************************************************\\n\\n\")\n",
        "    \n",
        "class D(C):\n",
        "    def f1(self, i):\n",
        "        return self._C__pr(i) # accessing private member of base class\n",
        "    \n",
        "    def f2(self, i):\n",
        "        return self.pu(i) # accessing private member of base class\n",
        "    \n",
        "d = D();\n",
        "print(dir(D))\n",
        "\n",
        "print(d.f2(4))\n"
      ],
      "execution_count": null,
      "outputs": [
        {
          "output_type": "stream",
          "text": [
            "['_C__pr', '__class__', '__delattr__', '__dict__', '__dir__', '__doc__', '__eq__', '__format__', '__ge__', '__getattribute__', '__gt__', '__hash__', '__init__', '__init_subclass__', '__le__', '__lt__', '__module__', '__ne__', '__new__', '__reduce__', '__reduce_ex__', '__repr__', '__setattr__', '__sizeof__', '__str__', '__subclasshook__', '__weakref__', 'pu']\n",
            "\n",
            "\n",
            "***************************************************************************\n",
            "\n",
            "\n",
            "['_C__pr', '__class__', '__delattr__', '__dict__', '__dir__', '__doc__', '__eq__', '__format__', '__ge__', '__getattribute__', '__gt__', '__hash__', '__init__', '__init_subclass__', '__le__', '__lt__', '__module__', '__ne__', '__new__', '__reduce__', '__reduce_ex__', '__repr__', '__setattr__', '__sizeof__', '__str__', '__subclasshook__', '__weakref__', 'f1', 'f2', 'pu']\n",
            "17\n"
          ],
          "name": "stdout"
        }
      ]
    },
    {
      "cell_type": "code",
      "metadata": {
        "id": "w_A6prOP9tKl",
        "outputId": "e6274c1a-9c04-4e4e-8724-93ac29a8e890"
      },
      "source": [
        "print(d.f1(4))"
      ],
      "execution_count": null,
      "outputs": [
        {
          "output_type": "stream",
          "text": [
            "16\n"
          ],
          "name": "stdout"
        }
      ]
    },
    {
      "cell_type": "code",
      "metadata": {
        "id": "6WsQGN4s9tKl",
        "outputId": "2e4c777c-94c2-42c6-8511-43443b67dc9c"
      },
      "source": [
        "# Protected in Python: ONE _\n",
        "# Public: NO _\n",
        "# Private: TWO _\n",
        "# Convention and not a feature of the programming language. Implementation dependent\n",
        "# Refer: https://docs.python.org/3/tutorial/classes.html#private-variables\n",
        "\n",
        "class C:\n",
        "    def _pr(self, i): # protected due to ONE underscore, implementation dependent, suggested \n",
        "        return 2**i;\n",
        "    \n",
        "    def pu(self, x):\n",
        "        return self._pr(x)+1;\n",
        "\n",
        "print(dir(C))\n",
        "print(\"\\n\\n***************************************************************************\\n\\n\")\n",
        "    \n",
        "class D(C):\n",
        "    def f1(self, i):\n",
        "        return self._pr(i) # accessing private member of base class\n",
        "    \n",
        "    def f2(self, i):\n",
        "        return self.pu(i) # accessing private member of base class\n",
        "    \n",
        "d = D();\n",
        "print(dir(D))\n",
        "\n",
        "print(d.f1(4)) # calling a protected member in base calss from derived class\n"
      ],
      "execution_count": null,
      "outputs": [
        {
          "output_type": "stream",
          "text": [
            "['__class__', '__delattr__', '__dict__', '__dir__', '__doc__', '__eq__', '__format__', '__ge__', '__getattribute__', '__gt__', '__hash__', '__init__', '__init_subclass__', '__le__', '__lt__', '__module__', '__ne__', '__new__', '__reduce__', '__reduce_ex__', '__repr__', '__setattr__', '__sizeof__', '__str__', '__subclasshook__', '__weakref__', '_pr', 'pu']\n",
            "\n",
            "\n",
            "***************************************************************************\n",
            "\n",
            "\n",
            "['__class__', '__delattr__', '__dict__', '__dir__', '__doc__', '__eq__', '__format__', '__ge__', '__getattribute__', '__gt__', '__hash__', '__init__', '__init_subclass__', '__le__', '__lt__', '__module__', '__ne__', '__new__', '__reduce__', '__reduce_ex__', '__repr__', '__setattr__', '__sizeof__', '__str__', '__subclasshook__', '__weakref__', '_pr', 'f1', 'f2', 'pu']\n",
            "16\n"
          ],
          "name": "stdout"
        }
      ]
    },
    {
      "cell_type": "code",
      "metadata": {
        "id": "vzvbLKM19tKm",
        "outputId": "289ed80d-6888-465d-8a3c-58e6d0b88473"
      },
      "source": [
        "c = C();\n",
        "print (c._pr(3))"
      ],
      "execution_count": null,
      "outputs": [
        {
          "output_type": "stream",
          "text": [
            "8\n"
          ],
          "name": "stdout"
        }
      ]
    },
    {
      "cell_type": "code",
      "metadata": {
        "id": "482x1Rxu9tKm",
        "outputId": "4dbb51ff-746c-4cd6-9fa6-a90beb50b063"
      },
      "source": [
        "# Constructor overloading:\n",
        "\n",
        "class A:\n",
        "    def __init__(self, i):\n",
        "        self.var1 = i;\n",
        "        self.var2 = 0;\n",
        "        \n",
        "    def __init__(self, i,j):\n",
        "        self.var1 = i;\n",
        "        self.var2 = j;\n",
        "        \n",
        "    def __str__(self):\n",
        "        return \"\\ni=\"+str(self.var1)+\"\\t\"+\"j=\"+str(self.var2)\n",
        "        \n",
        "a1 = A(10);\n",
        "print(a1)\n",
        "\n",
        "# We can overload but can only use the most recent function definition\n",
        "        "
      ],
      "execution_count": null,
      "outputs": [
        {
          "output_type": "error",
          "ename": "TypeError",
          "evalue": "__init__() missing 1 required positional argument: 'j'",
          "traceback": [
            "\u001b[0;31m---------------------------------------------------------------------------\u001b[0m",
            "\u001b[0;31mTypeError\u001b[0m                                 Traceback (most recent call last)",
            "\u001b[0;32m<ipython-input-42-a4511922906c>\u001b[0m in \u001b[0;36m<module>\u001b[0;34m\u001b[0m\n\u001b[1;32m     13\u001b[0m         \u001b[0;32mreturn\u001b[0m \u001b[0;34m\"\\ni=\"\u001b[0m\u001b[0;34m+\u001b[0m\u001b[0mstr\u001b[0m\u001b[0;34m(\u001b[0m\u001b[0mself\u001b[0m\u001b[0;34m.\u001b[0m\u001b[0mvar1\u001b[0m\u001b[0;34m)\u001b[0m\u001b[0;34m+\u001b[0m\u001b[0;34m\"\\t\"\u001b[0m\u001b[0;34m+\u001b[0m\u001b[0;34m\"j=\"\u001b[0m\u001b[0;34m+\u001b[0m\u001b[0mstr\u001b[0m\u001b[0;34m(\u001b[0m\u001b[0mself\u001b[0m\u001b[0;34m.\u001b[0m\u001b[0mvar2\u001b[0m\u001b[0;34m)\u001b[0m\u001b[0;34m\u001b[0m\u001b[0;34m\u001b[0m\u001b[0m\n\u001b[1;32m     14\u001b[0m \u001b[0;34m\u001b[0m\u001b[0m\n\u001b[0;32m---> 15\u001b[0;31m \u001b[0ma1\u001b[0m \u001b[0;34m=\u001b[0m \u001b[0mA\u001b[0m\u001b[0;34m(\u001b[0m\u001b[0;36m10\u001b[0m\u001b[0;34m)\u001b[0m\u001b[0;34m;\u001b[0m\u001b[0;34m\u001b[0m\u001b[0;34m\u001b[0m\u001b[0m\n\u001b[0m\u001b[1;32m     16\u001b[0m \u001b[0mprint\u001b[0m\u001b[0;34m(\u001b[0m\u001b[0ma1\u001b[0m\u001b[0;34m)\u001b[0m\u001b[0;34m\u001b[0m\u001b[0;34m\u001b[0m\u001b[0m\n\u001b[1;32m     17\u001b[0m \u001b[0;34m\u001b[0m\u001b[0m\n",
            "\u001b[0;31mTypeError\u001b[0m: __init__() missing 1 required positional argument: 'j'"
          ]
        }
      ]
    },
    {
      "cell_type": "code",
      "metadata": {
        "id": "LfZ90hIV9tKn",
        "outputId": "49452568-6147-4d33-985e-783a330bb966"
      },
      "source": [
        "a1 = A(10,20);\n",
        "print(a1)"
      ],
      "execution_count": null,
      "outputs": [
        {
          "output_type": "stream",
          "text": [
            "\n",
            "i=10\tj=20\n"
          ],
          "name": "stdout"
        }
      ]
    },
    {
      "cell_type": "code",
      "metadata": {
        "id": "Py8CsteT9tKn",
        "outputId": "b901b05b-6607-47d3-d644-172c1d855eca"
      },
      "source": [
        "# Can we call other functions inside __init__?\n",
        "\n",
        "class A:\n",
        "    def __init__(self, i,j):\n",
        "        f(i,j)\n",
        "        \n",
        "    def f(self, i,j):\n",
        "        self.var1 = i;\n",
        "        self.var2 = j;\n",
        "        \n",
        "    def __str__(self):\n",
        "        return \"\\ni=\"+str(self.var1)+\"\\t\"+\"j=\"+str(self.var2)\n",
        "        \n",
        "a1 = A(10,20);\n",
        "print(a1)"
      ],
      "execution_count": null,
      "outputs": [
        {
          "output_type": "error",
          "ename": "NameError",
          "evalue": "name 'f' is not defined",
          "traceback": [
            "\u001b[0;31m---------------------------------------------------------------------------\u001b[0m",
            "\u001b[0;31mNameError\u001b[0m                                 Traceback (most recent call last)",
            "\u001b[0;32m<ipython-input-61-b8f3ad544ae8>\u001b[0m in \u001b[0;36m<module>\u001b[0;34m\u001b[0m\n\u001b[1;32m     12\u001b[0m         \u001b[0;32mreturn\u001b[0m \u001b[0;34m\"\\ni=\"\u001b[0m\u001b[0;34m+\u001b[0m\u001b[0mstr\u001b[0m\u001b[0;34m(\u001b[0m\u001b[0mself\u001b[0m\u001b[0;34m.\u001b[0m\u001b[0mvar1\u001b[0m\u001b[0;34m)\u001b[0m\u001b[0;34m+\u001b[0m\u001b[0;34m\"\\t\"\u001b[0m\u001b[0;34m+\u001b[0m\u001b[0;34m\"j=\"\u001b[0m\u001b[0;34m+\u001b[0m\u001b[0mstr\u001b[0m\u001b[0;34m(\u001b[0m\u001b[0mself\u001b[0m\u001b[0;34m.\u001b[0m\u001b[0mvar2\u001b[0m\u001b[0;34m)\u001b[0m\u001b[0;34m\u001b[0m\u001b[0;34m\u001b[0m\u001b[0m\n\u001b[1;32m     13\u001b[0m \u001b[0;34m\u001b[0m\u001b[0m\n\u001b[0;32m---> 14\u001b[0;31m \u001b[0ma1\u001b[0m \u001b[0;34m=\u001b[0m \u001b[0mA\u001b[0m\u001b[0;34m(\u001b[0m\u001b[0;36m10\u001b[0m\u001b[0;34m,\u001b[0m\u001b[0;36m20\u001b[0m\u001b[0;34m)\u001b[0m\u001b[0;34m;\u001b[0m\u001b[0;34m\u001b[0m\u001b[0;34m\u001b[0m\u001b[0m\n\u001b[0m\u001b[1;32m     15\u001b[0m \u001b[0mprint\u001b[0m\u001b[0;34m(\u001b[0m\u001b[0ma1\u001b[0m\u001b[0;34m)\u001b[0m\u001b[0;34m\u001b[0m\u001b[0;34m\u001b[0m\u001b[0m\n",
            "\u001b[0;32m<ipython-input-61-b8f3ad544ae8>\u001b[0m in \u001b[0;36m__init__\u001b[0;34m(self, i, j)\u001b[0m\n\u001b[1;32m      3\u001b[0m \u001b[0;32mclass\u001b[0m \u001b[0mA\u001b[0m\u001b[0;34m:\u001b[0m\u001b[0;34m\u001b[0m\u001b[0;34m\u001b[0m\u001b[0m\n\u001b[1;32m      4\u001b[0m     \u001b[0;32mdef\u001b[0m \u001b[0m__init__\u001b[0m\u001b[0;34m(\u001b[0m\u001b[0mself\u001b[0m\u001b[0;34m,\u001b[0m \u001b[0mi\u001b[0m\u001b[0;34m,\u001b[0m\u001b[0mj\u001b[0m\u001b[0;34m)\u001b[0m\u001b[0;34m:\u001b[0m\u001b[0;34m\u001b[0m\u001b[0;34m\u001b[0m\u001b[0m\n\u001b[0;32m----> 5\u001b[0;31m         \u001b[0mf\u001b[0m\u001b[0;34m(\u001b[0m\u001b[0mi\u001b[0m\u001b[0;34m,\u001b[0m\u001b[0mj\u001b[0m\u001b[0;34m)\u001b[0m\u001b[0;34m\u001b[0m\u001b[0;34m\u001b[0m\u001b[0m\n\u001b[0m\u001b[1;32m      6\u001b[0m \u001b[0;34m\u001b[0m\u001b[0m\n\u001b[1;32m      7\u001b[0m     \u001b[0;32mdef\u001b[0m \u001b[0mf\u001b[0m\u001b[0;34m(\u001b[0m\u001b[0mself\u001b[0m\u001b[0;34m,\u001b[0m \u001b[0mi\u001b[0m\u001b[0;34m,\u001b[0m\u001b[0mj\u001b[0m\u001b[0;34m)\u001b[0m\u001b[0;34m:\u001b[0m\u001b[0;34m\u001b[0m\u001b[0;34m\u001b[0m\u001b[0m\n",
            "\u001b[0;31mNameError\u001b[0m: name 'f' is not defined"
          ]
        }
      ]
    },
    {
      "cell_type": "code",
      "metadata": {
        "id": "xpEWBP2J9tKn",
        "outputId": "9ba60756-5ed8-41c0-f43e-e034f889ff20"
      },
      "source": [
        "class A:\n",
        "        \n",
        "    def __init__(self, i,j):\n",
        "        self.f(i,j)\n",
        "    \n",
        "    def f(self, i,j):\n",
        "        self.var1 = i;\n",
        "        self.var2 = j;\n",
        "        \n",
        "    def __str__(self):\n",
        "        return \"\\ni=\"+str(self.var1)+\"\\t\"+\"j=\"+str(self.var2)\n",
        "        \n",
        "a1 = A(10,20);\n",
        "print(a1)"
      ],
      "execution_count": null,
      "outputs": [
        {
          "output_type": "stream",
          "text": [
            "\n",
            "i=10\tj=20\n"
          ],
          "name": "stdout"
        }
      ]
    },
    {
      "cell_type": "markdown",
      "metadata": {
        "id": "BDsYmnEr9tKo"
      },
      "source": [
        "- In later sections, we will use many major libraries where we will revisit OOP-concepts again and again\n",
        "- We will extend some classes from major libraries (ML/DS/Plotting/Stats/DL) to suit our needs"
      ]
    }
  ]
}